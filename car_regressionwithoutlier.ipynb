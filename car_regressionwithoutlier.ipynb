{
  "nbformat": 4,
  "nbformat_minor": 0,
  "metadata": {
    "colab": {
      "provenance": []
    },
    "kernelspec": {
      "name": "python3",
      "display_name": "Python 3"
    },
    "language_info": {
      "name": "python"
    }
  },
  "cells": [
    {
      "cell_type": "code",
      "execution_count": 2,
      "metadata": {
        "id": "xSurOtXZiJ7W"
      },
      "outputs": [],
      "source": [
        "import warnings\n",
        "warnings.filterwarnings(\"ignore\")"
      ]
    },
    {
      "cell_type": "code",
      "source": [
        "import pandas as pd\n",
        "df=pd.read_csv(r\"/content/sample_data/cars_price.csv\")"
      ],
      "metadata": {
        "id": "6feqt42xisf3"
      },
      "execution_count": 3,
      "outputs": []
    },
    {
      "cell_type": "code",
      "source": [
        "df.head()"
      ],
      "metadata": {
        "colab": {
          "base_uri": "https://localhost:8080/",
          "height": 386
        },
        "id": "OuZCnlsfiykF",
        "outputId": "e4e33ca6-0b59-4022-e63a-be897b2551d7"
      },
      "execution_count": 4,
      "outputs": [
        {
          "output_type": "execute_result",
          "data": {
            "text/plain": [
              "   symboling normalized-losses         make fuel-type aspiration num-of-doors  \\\n",
              "0          3                 ?  alfa-romero       gas        std          two   \n",
              "1          3                 ?  alfa-romero       gas        std          two   \n",
              "2          1                 ?  alfa-romero       gas        std          two   \n",
              "3          2               164         audi       gas        std         four   \n",
              "4          2               164         audi       gas        std         four   \n",
              "\n",
              "    body-style drive-wheels engine-location  wheel-base  ...  engine-size  \\\n",
              "0  convertible          rwd           front        88.6  ...          130   \n",
              "1  convertible          rwd           front        88.6  ...          130   \n",
              "2    hatchback          rwd           front        94.5  ...          152   \n",
              "3        sedan          fwd           front        99.8  ...          109   \n",
              "4        sedan          4wd           front        99.4  ...          136   \n",
              "\n",
              "   fuel-system  bore  stroke compression-ratio horsepower  peak-rpm city-mpg  \\\n",
              "0         mpfi  3.47    2.68               9.0        111      5000       21   \n",
              "1         mpfi  3.47    2.68               9.0        111      5000       21   \n",
              "2         mpfi  2.68    3.47               9.0        154      5000       19   \n",
              "3         mpfi  3.19     3.4              10.0        102      5500       24   \n",
              "4         mpfi  3.19     3.4               8.0        115      5500       18   \n",
              "\n",
              "  highway-mpg  price  \n",
              "0          27  13495  \n",
              "1          27  16500  \n",
              "2          26  16500  \n",
              "3          30  13950  \n",
              "4          22  17450  \n",
              "\n",
              "[5 rows x 26 columns]"
            ],
            "text/html": [
              "\n",
              "  <div id=\"df-c04d8435-c38b-4df5-989e-a0d80dc8b2b2\">\n",
              "    <div class=\"colab-df-container\">\n",
              "      <div>\n",
              "<style scoped>\n",
              "    .dataframe tbody tr th:only-of-type {\n",
              "        vertical-align: middle;\n",
              "    }\n",
              "\n",
              "    .dataframe tbody tr th {\n",
              "        vertical-align: top;\n",
              "    }\n",
              "\n",
              "    .dataframe thead th {\n",
              "        text-align: right;\n",
              "    }\n",
              "</style>\n",
              "<table border=\"1\" class=\"dataframe\">\n",
              "  <thead>\n",
              "    <tr style=\"text-align: right;\">\n",
              "      <th></th>\n",
              "      <th>symboling</th>\n",
              "      <th>normalized-losses</th>\n",
              "      <th>make</th>\n",
              "      <th>fuel-type</th>\n",
              "      <th>aspiration</th>\n",
              "      <th>num-of-doors</th>\n",
              "      <th>body-style</th>\n",
              "      <th>drive-wheels</th>\n",
              "      <th>engine-location</th>\n",
              "      <th>wheel-base</th>\n",
              "      <th>...</th>\n",
              "      <th>engine-size</th>\n",
              "      <th>fuel-system</th>\n",
              "      <th>bore</th>\n",
              "      <th>stroke</th>\n",
              "      <th>compression-ratio</th>\n",
              "      <th>horsepower</th>\n",
              "      <th>peak-rpm</th>\n",
              "      <th>city-mpg</th>\n",
              "      <th>highway-mpg</th>\n",
              "      <th>price</th>\n",
              "    </tr>\n",
              "  </thead>\n",
              "  <tbody>\n",
              "    <tr>\n",
              "      <th>0</th>\n",
              "      <td>3</td>\n",
              "      <td>?</td>\n",
              "      <td>alfa-romero</td>\n",
              "      <td>gas</td>\n",
              "      <td>std</td>\n",
              "      <td>two</td>\n",
              "      <td>convertible</td>\n",
              "      <td>rwd</td>\n",
              "      <td>front</td>\n",
              "      <td>88.6</td>\n",
              "      <td>...</td>\n",
              "      <td>130</td>\n",
              "      <td>mpfi</td>\n",
              "      <td>3.47</td>\n",
              "      <td>2.68</td>\n",
              "      <td>9.0</td>\n",
              "      <td>111</td>\n",
              "      <td>5000</td>\n",
              "      <td>21</td>\n",
              "      <td>27</td>\n",
              "      <td>13495</td>\n",
              "    </tr>\n",
              "    <tr>\n",
              "      <th>1</th>\n",
              "      <td>3</td>\n",
              "      <td>?</td>\n",
              "      <td>alfa-romero</td>\n",
              "      <td>gas</td>\n",
              "      <td>std</td>\n",
              "      <td>two</td>\n",
              "      <td>convertible</td>\n",
              "      <td>rwd</td>\n",
              "      <td>front</td>\n",
              "      <td>88.6</td>\n",
              "      <td>...</td>\n",
              "      <td>130</td>\n",
              "      <td>mpfi</td>\n",
              "      <td>3.47</td>\n",
              "      <td>2.68</td>\n",
              "      <td>9.0</td>\n",
              "      <td>111</td>\n",
              "      <td>5000</td>\n",
              "      <td>21</td>\n",
              "      <td>27</td>\n",
              "      <td>16500</td>\n",
              "    </tr>\n",
              "    <tr>\n",
              "      <th>2</th>\n",
              "      <td>1</td>\n",
              "      <td>?</td>\n",
              "      <td>alfa-romero</td>\n",
              "      <td>gas</td>\n",
              "      <td>std</td>\n",
              "      <td>two</td>\n",
              "      <td>hatchback</td>\n",
              "      <td>rwd</td>\n",
              "      <td>front</td>\n",
              "      <td>94.5</td>\n",
              "      <td>...</td>\n",
              "      <td>152</td>\n",
              "      <td>mpfi</td>\n",
              "      <td>2.68</td>\n",
              "      <td>3.47</td>\n",
              "      <td>9.0</td>\n",
              "      <td>154</td>\n",
              "      <td>5000</td>\n",
              "      <td>19</td>\n",
              "      <td>26</td>\n",
              "      <td>16500</td>\n",
              "    </tr>\n",
              "    <tr>\n",
              "      <th>3</th>\n",
              "      <td>2</td>\n",
              "      <td>164</td>\n",
              "      <td>audi</td>\n",
              "      <td>gas</td>\n",
              "      <td>std</td>\n",
              "      <td>four</td>\n",
              "      <td>sedan</td>\n",
              "      <td>fwd</td>\n",
              "      <td>front</td>\n",
              "      <td>99.8</td>\n",
              "      <td>...</td>\n",
              "      <td>109</td>\n",
              "      <td>mpfi</td>\n",
              "      <td>3.19</td>\n",
              "      <td>3.4</td>\n",
              "      <td>10.0</td>\n",
              "      <td>102</td>\n",
              "      <td>5500</td>\n",
              "      <td>24</td>\n",
              "      <td>30</td>\n",
              "      <td>13950</td>\n",
              "    </tr>\n",
              "    <tr>\n",
              "      <th>4</th>\n",
              "      <td>2</td>\n",
              "      <td>164</td>\n",
              "      <td>audi</td>\n",
              "      <td>gas</td>\n",
              "      <td>std</td>\n",
              "      <td>four</td>\n",
              "      <td>sedan</td>\n",
              "      <td>4wd</td>\n",
              "      <td>front</td>\n",
              "      <td>99.4</td>\n",
              "      <td>...</td>\n",
              "      <td>136</td>\n",
              "      <td>mpfi</td>\n",
              "      <td>3.19</td>\n",
              "      <td>3.4</td>\n",
              "      <td>8.0</td>\n",
              "      <td>115</td>\n",
              "      <td>5500</td>\n",
              "      <td>18</td>\n",
              "      <td>22</td>\n",
              "      <td>17450</td>\n",
              "    </tr>\n",
              "  </tbody>\n",
              "</table>\n",
              "<p>5 rows × 26 columns</p>\n",
              "</div>\n",
              "      <button class=\"colab-df-convert\" onclick=\"convertToInteractive('df-c04d8435-c38b-4df5-989e-a0d80dc8b2b2')\"\n",
              "              title=\"Convert this dataframe to an interactive table.\"\n",
              "              style=\"display:none;\">\n",
              "        \n",
              "  <svg xmlns=\"http://www.w3.org/2000/svg\" height=\"24px\"viewBox=\"0 0 24 24\"\n",
              "       width=\"24px\">\n",
              "    <path d=\"M0 0h24v24H0V0z\" fill=\"none\"/>\n",
              "    <path d=\"M18.56 5.44l.94 2.06.94-2.06 2.06-.94-2.06-.94-.94-2.06-.94 2.06-2.06.94zm-11 1L8.5 8.5l.94-2.06 2.06-.94-2.06-.94L8.5 2.5l-.94 2.06-2.06.94zm10 10l.94 2.06.94-2.06 2.06-.94-2.06-.94-.94-2.06-.94 2.06-2.06.94z\"/><path d=\"M17.41 7.96l-1.37-1.37c-.4-.4-.92-.59-1.43-.59-.52 0-1.04.2-1.43.59L10.3 9.45l-7.72 7.72c-.78.78-.78 2.05 0 2.83L4 21.41c.39.39.9.59 1.41.59.51 0 1.02-.2 1.41-.59l7.78-7.78 2.81-2.81c.8-.78.8-2.07 0-2.86zM5.41 20L4 18.59l7.72-7.72 1.47 1.35L5.41 20z\"/>\n",
              "  </svg>\n",
              "      </button>\n",
              "      \n",
              "  <style>\n",
              "    .colab-df-container {\n",
              "      display:flex;\n",
              "      flex-wrap:wrap;\n",
              "      gap: 12px;\n",
              "    }\n",
              "\n",
              "    .colab-df-convert {\n",
              "      background-color: #E8F0FE;\n",
              "      border: none;\n",
              "      border-radius: 50%;\n",
              "      cursor: pointer;\n",
              "      display: none;\n",
              "      fill: #1967D2;\n",
              "      height: 32px;\n",
              "      padding: 0 0 0 0;\n",
              "      width: 32px;\n",
              "    }\n",
              "\n",
              "    .colab-df-convert:hover {\n",
              "      background-color: #E2EBFA;\n",
              "      box-shadow: 0px 1px 2px rgba(60, 64, 67, 0.3), 0px 1px 3px 1px rgba(60, 64, 67, 0.15);\n",
              "      fill: #174EA6;\n",
              "    }\n",
              "\n",
              "    [theme=dark] .colab-df-convert {\n",
              "      background-color: #3B4455;\n",
              "      fill: #D2E3FC;\n",
              "    }\n",
              "\n",
              "    [theme=dark] .colab-df-convert:hover {\n",
              "      background-color: #434B5C;\n",
              "      box-shadow: 0px 1px 3px 1px rgba(0, 0, 0, 0.15);\n",
              "      filter: drop-shadow(0px 1px 2px rgba(0, 0, 0, 0.3));\n",
              "      fill: #FFFFFF;\n",
              "    }\n",
              "  </style>\n",
              "\n",
              "      <script>\n",
              "        const buttonEl =\n",
              "          document.querySelector('#df-c04d8435-c38b-4df5-989e-a0d80dc8b2b2 button.colab-df-convert');\n",
              "        buttonEl.style.display =\n",
              "          google.colab.kernel.accessAllowed ? 'block' : 'none';\n",
              "\n",
              "        async function convertToInteractive(key) {\n",
              "          const element = document.querySelector('#df-c04d8435-c38b-4df5-989e-a0d80dc8b2b2');\n",
              "          const dataTable =\n",
              "            await google.colab.kernel.invokeFunction('convertToInteractive',\n",
              "                                                     [key], {});\n",
              "          if (!dataTable) return;\n",
              "\n",
              "          const docLinkHtml = 'Like what you see? Visit the ' +\n",
              "            '<a target=\"_blank\" href=https://colab.research.google.com/notebooks/data_table.ipynb>data table notebook</a>'\n",
              "            + ' to learn more about interactive tables.';\n",
              "          element.innerHTML = '';\n",
              "          dataTable['output_type'] = 'display_data';\n",
              "          await google.colab.output.renderOutput(dataTable, element);\n",
              "          const docLink = document.createElement('div');\n",
              "          docLink.innerHTML = docLinkHtml;\n",
              "          element.appendChild(docLink);\n",
              "        }\n",
              "      </script>\n",
              "    </div>\n",
              "  </div>\n",
              "  "
            ]
          },
          "metadata": {},
          "execution_count": 4
        }
      ]
    },
    {
      "cell_type": "code",
      "source": [
        "df.info()"
      ],
      "metadata": {
        "colab": {
          "base_uri": "https://localhost:8080/"
        },
        "id": "ykVDZxbUi3WO",
        "outputId": "e0c2bca6-ca31-4ab8-996b-69befd7f11de"
      },
      "execution_count": 5,
      "outputs": [
        {
          "output_type": "stream",
          "name": "stdout",
          "text": [
            "<class 'pandas.core.frame.DataFrame'>\n",
            "RangeIndex: 205 entries, 0 to 204\n",
            "Data columns (total 26 columns):\n",
            " #   Column             Non-Null Count  Dtype  \n",
            "---  ------             --------------  -----  \n",
            " 0   symboling          205 non-null    int64  \n",
            " 1   normalized-losses  205 non-null    object \n",
            " 2   make               205 non-null    object \n",
            " 3   fuel-type          205 non-null    object \n",
            " 4   aspiration         205 non-null    object \n",
            " 5   num-of-doors       205 non-null    object \n",
            " 6   body-style         205 non-null    object \n",
            " 7   drive-wheels       205 non-null    object \n",
            " 8   engine-location    205 non-null    object \n",
            " 9   wheel-base         205 non-null    float64\n",
            " 10  length             205 non-null    float64\n",
            " 11  width              205 non-null    float64\n",
            " 12  height             205 non-null    float64\n",
            " 13  curb-weight        205 non-null    int64  \n",
            " 14  engine-type        205 non-null    object \n",
            " 15  num-of-cylinders   205 non-null    object \n",
            " 16  engine-size        205 non-null    int64  \n",
            " 17  fuel-system        205 non-null    object \n",
            " 18  bore               205 non-null    object \n",
            " 19  stroke             205 non-null    object \n",
            " 20  compression-ratio  205 non-null    float64\n",
            " 21  horsepower         205 non-null    object \n",
            " 22  peak-rpm           205 non-null    object \n",
            " 23  city-mpg           205 non-null    int64  \n",
            " 24  highway-mpg        205 non-null    int64  \n",
            " 25  price              205 non-null    object \n",
            "dtypes: float64(5), int64(5), object(16)\n",
            "memory usage: 41.8+ KB\n"
          ]
        }
      ]
    },
    {
      "cell_type": "code",
      "source": [
        "df.duplicated().sum()"
      ],
      "metadata": {
        "colab": {
          "base_uri": "https://localhost:8080/"
        },
        "id": "9E0l7vU0jH5q",
        "outputId": "907499fe-81b5-462c-aa17-6c547f475191"
      },
      "execution_count": 6,
      "outputs": [
        {
          "output_type": "execute_result",
          "data": {
            "text/plain": [
              "0"
            ]
          },
          "metadata": {},
          "execution_count": 6
        }
      ]
    },
    {
      "cell_type": "code",
      "source": [
        "df.isnull().sum()"
      ],
      "metadata": {
        "colab": {
          "base_uri": "https://localhost:8080/"
        },
        "id": "WZWNMfzNjJn1",
        "outputId": "6e9b7532-df06-466f-9037-1cf19a74a6db"
      },
      "execution_count": 7,
      "outputs": [
        {
          "output_type": "execute_result",
          "data": {
            "text/plain": [
              "symboling            0\n",
              "normalized-losses    0\n",
              "make                 0\n",
              "fuel-type            0\n",
              "aspiration           0\n",
              "num-of-doors         0\n",
              "body-style           0\n",
              "drive-wheels         0\n",
              "engine-location      0\n",
              "wheel-base           0\n",
              "length               0\n",
              "width                0\n",
              "height               0\n",
              "curb-weight          0\n",
              "engine-type          0\n",
              "num-of-cylinders     0\n",
              "engine-size          0\n",
              "fuel-system          0\n",
              "bore                 0\n",
              "stroke               0\n",
              "compression-ratio    0\n",
              "horsepower           0\n",
              "peak-rpm             0\n",
              "city-mpg             0\n",
              "highway-mpg          0\n",
              "price                0\n",
              "dtype: int64"
            ]
          },
          "metadata": {},
          "execution_count": 7
        }
      ]
    },
    {
      "cell_type": "code",
      "source": [
        "df.columns"
      ],
      "metadata": {
        "colab": {
          "base_uri": "https://localhost:8080/"
        },
        "id": "S_dQ_h83jLCN",
        "outputId": "e7e5dcd9-5db0-47fc-ffbd-c32b9e20b03b"
      },
      "execution_count": 8,
      "outputs": [
        {
          "output_type": "execute_result",
          "data": {
            "text/plain": [
              "Index(['symboling', 'normalized-losses', 'make', 'fuel-type', 'aspiration',\n",
              "       'num-of-doors', 'body-style', 'drive-wheels', 'engine-location',\n",
              "       'wheel-base', 'length', 'width', 'height', 'curb-weight', 'engine-type',\n",
              "       'num-of-cylinders', 'engine-size', 'fuel-system', 'bore', 'stroke',\n",
              "       'compression-ratio', 'horsepower', 'peak-rpm', 'city-mpg',\n",
              "       'highway-mpg', 'price'],\n",
              "      dtype='object')"
            ]
          },
          "metadata": {},
          "execution_count": 8
        }
      ]
    },
    {
      "cell_type": "code",
      "source": [
        "df.describe()"
      ],
      "metadata": {
        "colab": {
          "base_uri": "https://localhost:8080/",
          "height": 300
        },
        "id": "rDHeUqk1jMzl",
        "outputId": "e310a20e-32ed-4695-b9a3-bfd04adca8c3"
      },
      "execution_count": 9,
      "outputs": [
        {
          "output_type": "execute_result",
          "data": {
            "text/plain": [
              "        symboling  wheel-base      length       width      height  \\\n",
              "count  205.000000  205.000000  205.000000  205.000000  205.000000   \n",
              "mean     0.834146   98.756585  174.049268   65.907805   53.724878   \n",
              "std      1.245307    6.021776   12.337289    2.145204    2.443522   \n",
              "min     -2.000000   86.600000  141.100000   60.300000   47.800000   \n",
              "25%      0.000000   94.500000  166.300000   64.100000   52.000000   \n",
              "50%      1.000000   97.000000  173.200000   65.500000   54.100000   \n",
              "75%      2.000000  102.400000  183.100000   66.900000   55.500000   \n",
              "max      3.000000  120.900000  208.100000   72.300000   59.800000   \n",
              "\n",
              "       curb-weight  engine-size  compression-ratio    city-mpg  highway-mpg  \n",
              "count   205.000000   205.000000         205.000000  205.000000   205.000000  \n",
              "mean   2555.565854   126.907317          10.142537   25.219512    30.751220  \n",
              "std     520.680204    41.642693           3.972040    6.542142     6.886443  \n",
              "min    1488.000000    61.000000           7.000000   13.000000    16.000000  \n",
              "25%    2145.000000    97.000000           8.600000   19.000000    25.000000  \n",
              "50%    2414.000000   120.000000           9.000000   24.000000    30.000000  \n",
              "75%    2935.000000   141.000000           9.400000   30.000000    34.000000  \n",
              "max    4066.000000   326.000000          23.000000   49.000000    54.000000  "
            ],
            "text/html": [
              "\n",
              "  <div id=\"df-f1cb9dba-4093-41b6-95d2-c7bbb3af29f2\">\n",
              "    <div class=\"colab-df-container\">\n",
              "      <div>\n",
              "<style scoped>\n",
              "    .dataframe tbody tr th:only-of-type {\n",
              "        vertical-align: middle;\n",
              "    }\n",
              "\n",
              "    .dataframe tbody tr th {\n",
              "        vertical-align: top;\n",
              "    }\n",
              "\n",
              "    .dataframe thead th {\n",
              "        text-align: right;\n",
              "    }\n",
              "</style>\n",
              "<table border=\"1\" class=\"dataframe\">\n",
              "  <thead>\n",
              "    <tr style=\"text-align: right;\">\n",
              "      <th></th>\n",
              "      <th>symboling</th>\n",
              "      <th>wheel-base</th>\n",
              "      <th>length</th>\n",
              "      <th>width</th>\n",
              "      <th>height</th>\n",
              "      <th>curb-weight</th>\n",
              "      <th>engine-size</th>\n",
              "      <th>compression-ratio</th>\n",
              "      <th>city-mpg</th>\n",
              "      <th>highway-mpg</th>\n",
              "    </tr>\n",
              "  </thead>\n",
              "  <tbody>\n",
              "    <tr>\n",
              "      <th>count</th>\n",
              "      <td>205.000000</td>\n",
              "      <td>205.000000</td>\n",
              "      <td>205.000000</td>\n",
              "      <td>205.000000</td>\n",
              "      <td>205.000000</td>\n",
              "      <td>205.000000</td>\n",
              "      <td>205.000000</td>\n",
              "      <td>205.000000</td>\n",
              "      <td>205.000000</td>\n",
              "      <td>205.000000</td>\n",
              "    </tr>\n",
              "    <tr>\n",
              "      <th>mean</th>\n",
              "      <td>0.834146</td>\n",
              "      <td>98.756585</td>\n",
              "      <td>174.049268</td>\n",
              "      <td>65.907805</td>\n",
              "      <td>53.724878</td>\n",
              "      <td>2555.565854</td>\n",
              "      <td>126.907317</td>\n",
              "      <td>10.142537</td>\n",
              "      <td>25.219512</td>\n",
              "      <td>30.751220</td>\n",
              "    </tr>\n",
              "    <tr>\n",
              "      <th>std</th>\n",
              "      <td>1.245307</td>\n",
              "      <td>6.021776</td>\n",
              "      <td>12.337289</td>\n",
              "      <td>2.145204</td>\n",
              "      <td>2.443522</td>\n",
              "      <td>520.680204</td>\n",
              "      <td>41.642693</td>\n",
              "      <td>3.972040</td>\n",
              "      <td>6.542142</td>\n",
              "      <td>6.886443</td>\n",
              "    </tr>\n",
              "    <tr>\n",
              "      <th>min</th>\n",
              "      <td>-2.000000</td>\n",
              "      <td>86.600000</td>\n",
              "      <td>141.100000</td>\n",
              "      <td>60.300000</td>\n",
              "      <td>47.800000</td>\n",
              "      <td>1488.000000</td>\n",
              "      <td>61.000000</td>\n",
              "      <td>7.000000</td>\n",
              "      <td>13.000000</td>\n",
              "      <td>16.000000</td>\n",
              "    </tr>\n",
              "    <tr>\n",
              "      <th>25%</th>\n",
              "      <td>0.000000</td>\n",
              "      <td>94.500000</td>\n",
              "      <td>166.300000</td>\n",
              "      <td>64.100000</td>\n",
              "      <td>52.000000</td>\n",
              "      <td>2145.000000</td>\n",
              "      <td>97.000000</td>\n",
              "      <td>8.600000</td>\n",
              "      <td>19.000000</td>\n",
              "      <td>25.000000</td>\n",
              "    </tr>\n",
              "    <tr>\n",
              "      <th>50%</th>\n",
              "      <td>1.000000</td>\n",
              "      <td>97.000000</td>\n",
              "      <td>173.200000</td>\n",
              "      <td>65.500000</td>\n",
              "      <td>54.100000</td>\n",
              "      <td>2414.000000</td>\n",
              "      <td>120.000000</td>\n",
              "      <td>9.000000</td>\n",
              "      <td>24.000000</td>\n",
              "      <td>30.000000</td>\n",
              "    </tr>\n",
              "    <tr>\n",
              "      <th>75%</th>\n",
              "      <td>2.000000</td>\n",
              "      <td>102.400000</td>\n",
              "      <td>183.100000</td>\n",
              "      <td>66.900000</td>\n",
              "      <td>55.500000</td>\n",
              "      <td>2935.000000</td>\n",
              "      <td>141.000000</td>\n",
              "      <td>9.400000</td>\n",
              "      <td>30.000000</td>\n",
              "      <td>34.000000</td>\n",
              "    </tr>\n",
              "    <tr>\n",
              "      <th>max</th>\n",
              "      <td>3.000000</td>\n",
              "      <td>120.900000</td>\n",
              "      <td>208.100000</td>\n",
              "      <td>72.300000</td>\n",
              "      <td>59.800000</td>\n",
              "      <td>4066.000000</td>\n",
              "      <td>326.000000</td>\n",
              "      <td>23.000000</td>\n",
              "      <td>49.000000</td>\n",
              "      <td>54.000000</td>\n",
              "    </tr>\n",
              "  </tbody>\n",
              "</table>\n",
              "</div>\n",
              "      <button class=\"colab-df-convert\" onclick=\"convertToInteractive('df-f1cb9dba-4093-41b6-95d2-c7bbb3af29f2')\"\n",
              "              title=\"Convert this dataframe to an interactive table.\"\n",
              "              style=\"display:none;\">\n",
              "        \n",
              "  <svg xmlns=\"http://www.w3.org/2000/svg\" height=\"24px\"viewBox=\"0 0 24 24\"\n",
              "       width=\"24px\">\n",
              "    <path d=\"M0 0h24v24H0V0z\" fill=\"none\"/>\n",
              "    <path d=\"M18.56 5.44l.94 2.06.94-2.06 2.06-.94-2.06-.94-.94-2.06-.94 2.06-2.06.94zm-11 1L8.5 8.5l.94-2.06 2.06-.94-2.06-.94L8.5 2.5l-.94 2.06-2.06.94zm10 10l.94 2.06.94-2.06 2.06-.94-2.06-.94-.94-2.06-.94 2.06-2.06.94z\"/><path d=\"M17.41 7.96l-1.37-1.37c-.4-.4-.92-.59-1.43-.59-.52 0-1.04.2-1.43.59L10.3 9.45l-7.72 7.72c-.78.78-.78 2.05 0 2.83L4 21.41c.39.39.9.59 1.41.59.51 0 1.02-.2 1.41-.59l7.78-7.78 2.81-2.81c.8-.78.8-2.07 0-2.86zM5.41 20L4 18.59l7.72-7.72 1.47 1.35L5.41 20z\"/>\n",
              "  </svg>\n",
              "      </button>\n",
              "      \n",
              "  <style>\n",
              "    .colab-df-container {\n",
              "      display:flex;\n",
              "      flex-wrap:wrap;\n",
              "      gap: 12px;\n",
              "    }\n",
              "\n",
              "    .colab-df-convert {\n",
              "      background-color: #E8F0FE;\n",
              "      border: none;\n",
              "      border-radius: 50%;\n",
              "      cursor: pointer;\n",
              "      display: none;\n",
              "      fill: #1967D2;\n",
              "      height: 32px;\n",
              "      padding: 0 0 0 0;\n",
              "      width: 32px;\n",
              "    }\n",
              "\n",
              "    .colab-df-convert:hover {\n",
              "      background-color: #E2EBFA;\n",
              "      box-shadow: 0px 1px 2px rgba(60, 64, 67, 0.3), 0px 1px 3px 1px rgba(60, 64, 67, 0.15);\n",
              "      fill: #174EA6;\n",
              "    }\n",
              "\n",
              "    [theme=dark] .colab-df-convert {\n",
              "      background-color: #3B4455;\n",
              "      fill: #D2E3FC;\n",
              "    }\n",
              "\n",
              "    [theme=dark] .colab-df-convert:hover {\n",
              "      background-color: #434B5C;\n",
              "      box-shadow: 0px 1px 3px 1px rgba(0, 0, 0, 0.15);\n",
              "      filter: drop-shadow(0px 1px 2px rgba(0, 0, 0, 0.3));\n",
              "      fill: #FFFFFF;\n",
              "    }\n",
              "  </style>\n",
              "\n",
              "      <script>\n",
              "        const buttonEl =\n",
              "          document.querySelector('#df-f1cb9dba-4093-41b6-95d2-c7bbb3af29f2 button.colab-df-convert');\n",
              "        buttonEl.style.display =\n",
              "          google.colab.kernel.accessAllowed ? 'block' : 'none';\n",
              "\n",
              "        async function convertToInteractive(key) {\n",
              "          const element = document.querySelector('#df-f1cb9dba-4093-41b6-95d2-c7bbb3af29f2');\n",
              "          const dataTable =\n",
              "            await google.colab.kernel.invokeFunction('convertToInteractive',\n",
              "                                                     [key], {});\n",
              "          if (!dataTable) return;\n",
              "\n",
              "          const docLinkHtml = 'Like what you see? Visit the ' +\n",
              "            '<a target=\"_blank\" href=https://colab.research.google.com/notebooks/data_table.ipynb>data table notebook</a>'\n",
              "            + ' to learn more about interactive tables.';\n",
              "          element.innerHTML = '';\n",
              "          dataTable['output_type'] = 'display_data';\n",
              "          await google.colab.output.renderOutput(dataTable, element);\n",
              "          const docLink = document.createElement('div');\n",
              "          docLink.innerHTML = docLinkHtml;\n",
              "          element.appendChild(docLink);\n",
              "        }\n",
              "      </script>\n",
              "    </div>\n",
              "  </div>\n",
              "  "
            ]
          },
          "metadata": {},
          "execution_count": 9
        }
      ]
    },
    {
      "cell_type": "code",
      "source": [
        "df.nunique()"
      ],
      "metadata": {
        "colab": {
          "base_uri": "https://localhost:8080/"
        },
        "id": "l19PIm8ZjOzK",
        "outputId": "19c2dcab-6b6c-4547-f451-3a5375218dac"
      },
      "execution_count": 10,
      "outputs": [
        {
          "output_type": "execute_result",
          "data": {
            "text/plain": [
              "symboling              6\n",
              "normalized-losses     52\n",
              "make                  22\n",
              "fuel-type              2\n",
              "aspiration             2\n",
              "num-of-doors           3\n",
              "body-style             5\n",
              "drive-wheels           3\n",
              "engine-location        2\n",
              "wheel-base            53\n",
              "length                75\n",
              "width                 44\n",
              "height                49\n",
              "curb-weight          171\n",
              "engine-type            7\n",
              "num-of-cylinders       7\n",
              "engine-size           44\n",
              "fuel-system            8\n",
              "bore                  39\n",
              "stroke                37\n",
              "compression-ratio     32\n",
              "horsepower            60\n",
              "peak-rpm              24\n",
              "city-mpg              29\n",
              "highway-mpg           30\n",
              "price                187\n",
              "dtype: int64"
            ]
          },
          "metadata": {},
          "execution_count": 10
        }
      ]
    },
    {
      "cell_type": "code",
      "source": [
        "df.shape"
      ],
      "metadata": {
        "colab": {
          "base_uri": "https://localhost:8080/"
        },
        "id": "dU66XRPhjQyl",
        "outputId": "14f88cbd-6f22-4b53-faf2-05f643c62f68"
      },
      "execution_count": 11,
      "outputs": [
        {
          "output_type": "execute_result",
          "data": {
            "text/plain": [
              "(205, 26)"
            ]
          },
          "metadata": {},
          "execution_count": 11
        }
      ]
    },
    {
      "cell_type": "code",
      "source": [
        "df.iloc[:,-1].value_counts()"
      ],
      "metadata": {
        "colab": {
          "base_uri": "https://localhost:8080/"
        },
        "id": "9WD4g0vMjS6k",
        "outputId": "87cd1db2-b790-4133-8739-c6acab3efc9c"
      },
      "execution_count": 12,
      "outputs": [
        {
          "output_type": "execute_result",
          "data": {
            "text/plain": [
              "?        4\n",
              "8921     2\n",
              "18150    2\n",
              "8845     2\n",
              "8495     2\n",
              "        ..\n",
              "45400    1\n",
              "16503    1\n",
              "5389     1\n",
              "6189     1\n",
              "22625    1\n",
              "Name: price, Length: 187, dtype: int64"
            ]
          },
          "metadata": {},
          "execution_count": 12
        }
      ]
    },
    {
      "cell_type": "code",
      "source": [
        "for i in df.columns:\n",
        "    print(f'{i},{df[i].value_counts()}')"
      ],
      "metadata": {
        "colab": {
          "base_uri": "https://localhost:8080/"
        },
        "id": "Q5GBi1x9jUXJ",
        "outputId": "b61efd3d-ad8b-4de1-ad2d-5462e273f3dd"
      },
      "execution_count": 13,
      "outputs": [
        {
          "output_type": "stream",
          "name": "stdout",
          "text": [
            "symboling, 0    67\n",
            " 1    54\n",
            " 2    32\n",
            " 3    27\n",
            "-1    22\n",
            "-2     3\n",
            "Name: symboling, dtype: int64\n",
            "normalized-losses,?      41\n",
            "161    11\n",
            "91      8\n",
            "150     7\n",
            "134     6\n",
            "128     6\n",
            "104     6\n",
            "85      5\n",
            "94      5\n",
            "65      5\n",
            "102     5\n",
            "74      5\n",
            "168     5\n",
            "103     5\n",
            "95      5\n",
            "106     4\n",
            "93      4\n",
            "118     4\n",
            "148     4\n",
            "122     4\n",
            "83      3\n",
            "125     3\n",
            "154     3\n",
            "115     3\n",
            "137     3\n",
            "101     3\n",
            "119     2\n",
            "87      2\n",
            "89      2\n",
            "192     2\n",
            "197     2\n",
            "158     2\n",
            "81      2\n",
            "188     2\n",
            "194     2\n",
            "153     2\n",
            "129     2\n",
            "108     2\n",
            "110     2\n",
            "164     2\n",
            "145     2\n",
            "113     2\n",
            "256     1\n",
            "107     1\n",
            "90      1\n",
            "231     1\n",
            "142     1\n",
            "121     1\n",
            "78      1\n",
            "98      1\n",
            "186     1\n",
            "77      1\n",
            "Name: normalized-losses, dtype: int64\n",
            "make,toyota           32\n",
            "nissan           18\n",
            "mazda            17\n",
            "mitsubishi       13\n",
            "honda            13\n",
            "volkswagen       12\n",
            "subaru           12\n",
            "peugot           11\n",
            "volvo            11\n",
            "dodge             9\n",
            "mercedes-benz     8\n",
            "bmw               8\n",
            "audi              7\n",
            "plymouth          7\n",
            "saab              6\n",
            "porsche           5\n",
            "isuzu             4\n",
            "jaguar            3\n",
            "chevrolet         3\n",
            "alfa-romero       3\n",
            "renault           2\n",
            "mercury           1\n",
            "Name: make, dtype: int64\n",
            "fuel-type,gas       185\n",
            "diesel     20\n",
            "Name: fuel-type, dtype: int64\n",
            "aspiration,std      168\n",
            "turbo     37\n",
            "Name: aspiration, dtype: int64\n",
            "num-of-doors,four    114\n",
            "two      89\n",
            "?         2\n",
            "Name: num-of-doors, dtype: int64\n",
            "body-style,sedan          96\n",
            "hatchback      70\n",
            "wagon          25\n",
            "hardtop         8\n",
            "convertible     6\n",
            "Name: body-style, dtype: int64\n",
            "drive-wheels,fwd    120\n",
            "rwd     76\n",
            "4wd      9\n",
            "Name: drive-wheels, dtype: int64\n",
            "engine-location,front    202\n",
            "rear       3\n",
            "Name: engine-location, dtype: int64\n",
            "wheel-base,94.5     21\n",
            "93.7     20\n",
            "95.7     13\n",
            "96.5      8\n",
            "97.3      7\n",
            "98.4      7\n",
            "104.3     6\n",
            "100.4     6\n",
            "107.9     6\n",
            "98.8      6\n",
            "99.1      6\n",
            "96.3      6\n",
            "109.1     5\n",
            "93.1      5\n",
            "97.2      5\n",
            "95.9      5\n",
            "102.4     5\n",
            "97.0      4\n",
            "95.3      4\n",
            "114.2     4\n",
            "101.2     4\n",
            "110.0     3\n",
            "103.5     3\n",
            "89.5      3\n",
            "105.8     3\n",
            "96.1      2\n",
            "102.9     2\n",
            "104.5     2\n",
            "91.3      2\n",
            "96.9      2\n",
            "88.6      2\n",
            "113.0     2\n",
            "99.8      2\n",
            "115.6     2\n",
            "103.3     2\n",
            "86.6      2\n",
            "104.9     2\n",
            "93.3      1\n",
            "99.4      1\n",
            "99.5      1\n",
            "88.4      1\n",
            "94.3      1\n",
            "96.0      1\n",
            "95.1      1\n",
            "93.0      1\n",
            "102.0     1\n",
            "106.7     1\n",
            "108.0     1\n",
            "96.6      1\n",
            "99.2      1\n",
            "112.0     1\n",
            "102.7     1\n",
            "120.9     1\n",
            "Name: wheel-base, dtype: int64\n",
            "length,157.3    15\n",
            "188.8    11\n",
            "171.7     7\n",
            "186.7     7\n",
            "166.3     7\n",
            "         ..\n",
            "165.6     1\n",
            "187.5     1\n",
            "180.3     1\n",
            "208.1     1\n",
            "199.2     1\n",
            "Name: length, Length: 75, dtype: int64\n",
            "width,63.8    24\n",
            "66.5    23\n",
            "65.4    15\n",
            "63.6    11\n",
            "64.4    10\n",
            "68.4    10\n",
            "64.0     9\n",
            "65.5     8\n",
            "65.2     7\n",
            "64.2     6\n",
            "66.3     6\n",
            "65.6     6\n",
            "67.2     6\n",
            "67.9     5\n",
            "66.9     5\n",
            "65.7     4\n",
            "68.9     4\n",
            "64.8     4\n",
            "63.9     3\n",
            "70.3     3\n",
            "71.7     3\n",
            "71.4     3\n",
            "65.0     3\n",
            "68.3     2\n",
            "67.7     2\n",
            "64.1     2\n",
            "66.1     2\n",
            "69.6     2\n",
            "64.6     2\n",
            "72.0     1\n",
            "68.0     1\n",
            "70.5     1\n",
            "61.8     1\n",
            "66.0     1\n",
            "62.5     1\n",
            "70.6     1\n",
            "72.3     1\n",
            "66.6     1\n",
            "63.4     1\n",
            "60.3     1\n",
            "70.9     1\n",
            "66.4     1\n",
            "66.2     1\n",
            "68.8     1\n",
            "Name: width, dtype: int64\n",
            "height,50.8    14\n",
            "52.0    12\n",
            "55.7    12\n",
            "54.1    10\n",
            "54.5    10\n",
            "55.5     9\n",
            "56.7     8\n",
            "54.3     8\n",
            "52.6     7\n",
            "56.1     7\n",
            "51.6     7\n",
            "53.0     6\n",
            "52.8     6\n",
            "54.9     6\n",
            "50.2     6\n",
            "53.7     5\n",
            "55.1     5\n",
            "50.6     5\n",
            "49.6     4\n",
            "58.7     4\n",
            "53.3     4\n",
            "52.5     3\n",
            "59.1     3\n",
            "56.2     3\n",
            "49.7     3\n",
            "57.5     3\n",
            "53.5     3\n",
            "54.4     2\n",
            "53.9     2\n",
            "56.3     2\n",
            "50.5     2\n",
            "59.8     2\n",
            "56.5     2\n",
            "54.7     2\n",
            "48.8     2\n",
            "49.4     2\n",
            "51.4     2\n",
            "51.0     1\n",
            "54.8     1\n",
            "55.4     1\n",
            "56.0     1\n",
            "55.2     1\n",
            "53.2     1\n",
            "47.8     1\n",
            "55.9     1\n",
            "52.4     1\n",
            "55.6     1\n",
            "53.1     1\n",
            "58.3     1\n",
            "Name: height, dtype: int64\n",
            "curb-weight,2385    4\n",
            "1918    3\n",
            "2275    3\n",
            "1989    3\n",
            "2410    2\n",
            "       ..\n",
            "2370    1\n",
            "2328    1\n",
            "2833    1\n",
            "2921    1\n",
            "3062    1\n",
            "Name: curb-weight, Length: 171, dtype: int64\n",
            "engine-type,ohc      148\n",
            "ohcf      15\n",
            "ohcv      13\n",
            "dohc      12\n",
            "l         12\n",
            "rotor      4\n",
            "dohcv      1\n",
            "Name: engine-type, dtype: int64\n",
            "num-of-cylinders,four      159\n",
            "six        24\n",
            "five       11\n",
            "eight       5\n",
            "two         4\n",
            "three       1\n",
            "twelve      1\n",
            "Name: num-of-cylinders, dtype: int64\n",
            "engine-size,122    15\n",
            "92     15\n",
            "97     14\n",
            "98     14\n",
            "108    13\n",
            "90     12\n",
            "110    12\n",
            "109     8\n",
            "120     7\n",
            "141     7\n",
            "152     6\n",
            "181     6\n",
            "146     6\n",
            "121     6\n",
            "156     5\n",
            "136     5\n",
            "91      5\n",
            "183     4\n",
            "130     4\n",
            "171     3\n",
            "70      3\n",
            "194     3\n",
            "209     3\n",
            "164     3\n",
            "258     2\n",
            "140     2\n",
            "134     2\n",
            "234     2\n",
            "132     2\n",
            "131     2\n",
            "173     1\n",
            "203     1\n",
            "161     1\n",
            "80      1\n",
            "151     1\n",
            "103     1\n",
            "304     1\n",
            "308     1\n",
            "326     1\n",
            "119     1\n",
            "111     1\n",
            "79      1\n",
            "61      1\n",
            "145     1\n",
            "Name: engine-size, dtype: int64\n",
            "fuel-system,mpfi    94\n",
            "2bbl    66\n",
            "idi     20\n",
            "1bbl    11\n",
            "spdi     9\n",
            "4bbl     3\n",
            "mfi      1\n",
            "spfi     1\n",
            "Name: fuel-system, dtype: int64\n",
            "bore,3.62    23\n",
            "3.19    20\n",
            "3.15    15\n",
            "3.03    12\n",
            "2.97    12\n",
            "3.46     9\n",
            "3.31     8\n",
            "3.78     8\n",
            "3.43     8\n",
            "3.27     7\n",
            "2.91     7\n",
            "3.39     6\n",
            "3.54     6\n",
            "3.05     6\n",
            "3.58     6\n",
            "3.7      5\n",
            "3.01     5\n",
            "3.35     4\n",
            "?        4\n",
            "3.17     3\n",
            "3.59     3\n",
            "3.74     3\n",
            "3.47     2\n",
            "3.94     2\n",
            "3.24     2\n",
            "3.13     2\n",
            "3.63     2\n",
            "3.5      2\n",
            "3.8      2\n",
            "3.33     2\n",
            "2.54     1\n",
            "3.08     1\n",
            "3.61     1\n",
            "3.34     1\n",
            "3.6      1\n",
            "2.92     1\n",
            "3.76     1\n",
            "2.68     1\n",
            "2.99     1\n",
            "Name: bore, dtype: int64\n",
            "stroke,3.4     20\n",
            "3.23    14\n",
            "3.15    14\n",
            "3.03    14\n",
            "3.39    13\n",
            "2.64    11\n",
            "3.29     9\n",
            "3.35     9\n",
            "3.46     8\n",
            "3.11     6\n",
            "3.27     6\n",
            "3.41     6\n",
            "3.07     6\n",
            "3.58     6\n",
            "3.19     6\n",
            "3.5      6\n",
            "3.64     5\n",
            "3.52     5\n",
            "3.86     4\n",
            "3.54     4\n",
            "3.47     4\n",
            "?        4\n",
            "3.9      3\n",
            "2.9      3\n",
            "3.1      2\n",
            "4.17     2\n",
            "2.8      2\n",
            "2.19     2\n",
            "3.08     2\n",
            "2.68     2\n",
            "2.36     1\n",
            "3.16     1\n",
            "2.07     1\n",
            "3.21     1\n",
            "3.12     1\n",
            "2.76     1\n",
            "2.87     1\n",
            "Name: stroke, dtype: int64\n",
            "compression-ratio,9.00     46\n",
            "9.40     26\n",
            "8.50     14\n",
            "9.50     13\n",
            "9.30     11\n",
            "8.70      9\n",
            "8.00      8\n",
            "9.20      8\n",
            "7.00      7\n",
            "8.60      5\n",
            "21.00     5\n",
            "8.40      5\n",
            "7.50      5\n",
            "23.00     5\n",
            "9.60      5\n",
            "21.50     4\n",
            "7.60      4\n",
            "10.00     3\n",
            "22.50     3\n",
            "8.30      3\n",
            "8.80      3\n",
            "7.70      2\n",
            "8.10      2\n",
            "9.10      1\n",
            "9.31      1\n",
            "7.80      1\n",
            "9.41      1\n",
            "21.90     1\n",
            "22.00     1\n",
            "22.70     1\n",
            "10.10     1\n",
            "11.50     1\n",
            "Name: compression-ratio, dtype: int64\n",
            "horsepower,68     19\n",
            "70     11\n",
            "69     10\n",
            "116     9\n",
            "110     8\n",
            "95      7\n",
            "88      6\n",
            "62      6\n",
            "101     6\n",
            "160     6\n",
            "114     6\n",
            "84      5\n",
            "97      5\n",
            "102     5\n",
            "145     5\n",
            "82      5\n",
            "76      5\n",
            "111     4\n",
            "92      4\n",
            "123     4\n",
            "86      4\n",
            "90      3\n",
            "73      3\n",
            "85      3\n",
            "207     3\n",
            "182     3\n",
            "121     3\n",
            "152     3\n",
            "112     2\n",
            "56      2\n",
            "161     2\n",
            "156     2\n",
            "94      2\n",
            "52      2\n",
            "?       2\n",
            "162     2\n",
            "155     2\n",
            "184     2\n",
            "100     2\n",
            "176     2\n",
            "55      1\n",
            "262     1\n",
            "134     1\n",
            "115     1\n",
            "140     1\n",
            "48      1\n",
            "58      1\n",
            "60      1\n",
            "78      1\n",
            "135     1\n",
            "200     1\n",
            "64      1\n",
            "120     1\n",
            "72      1\n",
            "154     1\n",
            "288     1\n",
            "143     1\n",
            "142     1\n",
            "175     1\n",
            "106     1\n",
            "Name: horsepower, dtype: int64\n",
            "peak-rpm,5500    37\n",
            "4800    36\n",
            "5000    27\n",
            "5200    23\n",
            "5400    13\n",
            "6000     9\n",
            "5250     7\n",
            "4500     7\n",
            "5800     7\n",
            "4200     5\n",
            "4150     5\n",
            "4750     4\n",
            "4350     4\n",
            "5100     3\n",
            "4250     3\n",
            "5900     3\n",
            "4400     3\n",
            "?        2\n",
            "6600     2\n",
            "4650     1\n",
            "5600     1\n",
            "5750     1\n",
            "4900     1\n",
            "5300     1\n",
            "Name: peak-rpm, dtype: int64\n",
            "city-mpg,31    28\n",
            "19    27\n",
            "24    22\n",
            "27    14\n",
            "17    13\n",
            "26    12\n",
            "23    12\n",
            "21     8\n",
            "25     8\n",
            "30     8\n",
            "38     7\n",
            "28     7\n",
            "16     6\n",
            "37     6\n",
            "22     4\n",
            "29     3\n",
            "15     3\n",
            "20     3\n",
            "18     3\n",
            "14     2\n",
            "34     1\n",
            "35     1\n",
            "32     1\n",
            "36     1\n",
            "45     1\n",
            "13     1\n",
            "49     1\n",
            "47     1\n",
            "33     1\n",
            "Name: city-mpg, dtype: int64\n",
            "highway-mpg,25    19\n",
            "38    17\n",
            "24    17\n",
            "30    16\n",
            "32    16\n",
            "34    14\n",
            "37    13\n",
            "28    13\n",
            "29    10\n",
            "33     9\n",
            "22     8\n",
            "31     8\n",
            "23     7\n",
            "27     5\n",
            "43     4\n",
            "42     3\n",
            "26     3\n",
            "41     3\n",
            "19     2\n",
            "39     2\n",
            "18     2\n",
            "16     2\n",
            "20     2\n",
            "36     2\n",
            "47     2\n",
            "46     2\n",
            "54     1\n",
            "17     1\n",
            "53     1\n",
            "50     1\n",
            "Name: highway-mpg, dtype: int64\n",
            "price,?        4\n",
            "8921     2\n",
            "18150    2\n",
            "8845     2\n",
            "8495     2\n",
            "        ..\n",
            "45400    1\n",
            "16503    1\n",
            "5389     1\n",
            "6189     1\n",
            "22625    1\n",
            "Name: price, Length: 187, dtype: int64\n"
          ]
        }
      ]
    },
    {
      "cell_type": "code",
      "source": [
        "import numpy as np\n",
        "df.replace('?', np.nan, inplace = True)"
      ],
      "metadata": {
        "id": "c0qaILGqjWRR"
      },
      "execution_count": 14,
      "outputs": []
    },
    {
      "cell_type": "code",
      "source": [
        "df.info()"
      ],
      "metadata": {
        "colab": {
          "base_uri": "https://localhost:8080/"
        },
        "id": "W7odEOrbjbEi",
        "outputId": "12f3aab3-541d-4055-fa75-19b10d368514"
      },
      "execution_count": 15,
      "outputs": [
        {
          "output_type": "stream",
          "name": "stdout",
          "text": [
            "<class 'pandas.core.frame.DataFrame'>\n",
            "RangeIndex: 205 entries, 0 to 204\n",
            "Data columns (total 26 columns):\n",
            " #   Column             Non-Null Count  Dtype  \n",
            "---  ------             --------------  -----  \n",
            " 0   symboling          205 non-null    int64  \n",
            " 1   normalized-losses  164 non-null    object \n",
            " 2   make               205 non-null    object \n",
            " 3   fuel-type          205 non-null    object \n",
            " 4   aspiration         205 non-null    object \n",
            " 5   num-of-doors       203 non-null    object \n",
            " 6   body-style         205 non-null    object \n",
            " 7   drive-wheels       205 non-null    object \n",
            " 8   engine-location    205 non-null    object \n",
            " 9   wheel-base         205 non-null    float64\n",
            " 10  length             205 non-null    float64\n",
            " 11  width              205 non-null    float64\n",
            " 12  height             205 non-null    float64\n",
            " 13  curb-weight        205 non-null    int64  \n",
            " 14  engine-type        205 non-null    object \n",
            " 15  num-of-cylinders   205 non-null    object \n",
            " 16  engine-size        205 non-null    int64  \n",
            " 17  fuel-system        205 non-null    object \n",
            " 18  bore               201 non-null    object \n",
            " 19  stroke             201 non-null    object \n",
            " 20  compression-ratio  205 non-null    float64\n",
            " 21  horsepower         203 non-null    object \n",
            " 22  peak-rpm           203 non-null    object \n",
            " 23  city-mpg           205 non-null    int64  \n",
            " 24  highway-mpg        205 non-null    int64  \n",
            " 25  price              201 non-null    object \n",
            "dtypes: float64(5), int64(5), object(16)\n",
            "memory usage: 41.8+ KB\n"
          ]
        }
      ]
    },
    {
      "cell_type": "code",
      "source": [
        "data=df.drop(['num-of-doors','drive-wheels','engine-location','wheel-base','curb-weight','engine-type','engine-size','bore','stroke','compression-ratio','fuel-system','peak-rpm'],axis=1)\n"
      ],
      "metadata": {
        "id": "0gHbJShOjcoX"
      },
      "execution_count": 16,
      "outputs": []
    },
    {
      "cell_type": "code",
      "source": [
        "data.info()\n"
      ],
      "metadata": {
        "colab": {
          "base_uri": "https://localhost:8080/"
        },
        "id": "Ic6YATxEjnEF",
        "outputId": "8894d213-ee51-4839-c6b2-54e136ceb2b5"
      },
      "execution_count": 17,
      "outputs": [
        {
          "output_type": "stream",
          "name": "stdout",
          "text": [
            "<class 'pandas.core.frame.DataFrame'>\n",
            "RangeIndex: 205 entries, 0 to 204\n",
            "Data columns (total 14 columns):\n",
            " #   Column             Non-Null Count  Dtype  \n",
            "---  ------             --------------  -----  \n",
            " 0   symboling          205 non-null    int64  \n",
            " 1   normalized-losses  164 non-null    object \n",
            " 2   make               205 non-null    object \n",
            " 3   fuel-type          205 non-null    object \n",
            " 4   aspiration         205 non-null    object \n",
            " 5   body-style         205 non-null    object \n",
            " 6   length             205 non-null    float64\n",
            " 7   width              205 non-null    float64\n",
            " 8   height             205 non-null    float64\n",
            " 9   num-of-cylinders   205 non-null    object \n",
            " 10  horsepower         203 non-null    object \n",
            " 11  city-mpg           205 non-null    int64  \n",
            " 12  highway-mpg        205 non-null    int64  \n",
            " 13  price              201 non-null    object \n",
            "dtypes: float64(3), int64(3), object(8)\n",
            "memory usage: 22.5+ KB\n"
          ]
        }
      ]
    },
    {
      "cell_type": "code",
      "source": [
        "data.head()"
      ],
      "metadata": {
        "colab": {
          "base_uri": "https://localhost:8080/",
          "height": 206
        },
        "id": "4-XFO6kdjp9Y",
        "outputId": "aaacd26c-ac0c-4cb1-81e0-76b1fb3f8053"
      },
      "execution_count": 18,
      "outputs": [
        {
          "output_type": "execute_result",
          "data": {
            "text/plain": [
              "   symboling normalized-losses         make fuel-type aspiration   body-style  \\\n",
              "0          3               NaN  alfa-romero       gas        std  convertible   \n",
              "1          3               NaN  alfa-romero       gas        std  convertible   \n",
              "2          1               NaN  alfa-romero       gas        std    hatchback   \n",
              "3          2               164         audi       gas        std        sedan   \n",
              "4          2               164         audi       gas        std        sedan   \n",
              "\n",
              "   length  width  height num-of-cylinders horsepower  city-mpg  highway-mpg  \\\n",
              "0   168.8   64.1    48.8             four        111        21           27   \n",
              "1   168.8   64.1    48.8             four        111        21           27   \n",
              "2   171.2   65.5    52.4              six        154        19           26   \n",
              "3   176.6   66.2    54.3             four        102        24           30   \n",
              "4   176.6   66.4    54.3             five        115        18           22   \n",
              "\n",
              "   price  \n",
              "0  13495  \n",
              "1  16500  \n",
              "2  16500  \n",
              "3  13950  \n",
              "4  17450  "
            ],
            "text/html": [
              "\n",
              "  <div id=\"df-4d1b86a4-e1fb-432e-ad91-41751148720a\">\n",
              "    <div class=\"colab-df-container\">\n",
              "      <div>\n",
              "<style scoped>\n",
              "    .dataframe tbody tr th:only-of-type {\n",
              "        vertical-align: middle;\n",
              "    }\n",
              "\n",
              "    .dataframe tbody tr th {\n",
              "        vertical-align: top;\n",
              "    }\n",
              "\n",
              "    .dataframe thead th {\n",
              "        text-align: right;\n",
              "    }\n",
              "</style>\n",
              "<table border=\"1\" class=\"dataframe\">\n",
              "  <thead>\n",
              "    <tr style=\"text-align: right;\">\n",
              "      <th></th>\n",
              "      <th>symboling</th>\n",
              "      <th>normalized-losses</th>\n",
              "      <th>make</th>\n",
              "      <th>fuel-type</th>\n",
              "      <th>aspiration</th>\n",
              "      <th>body-style</th>\n",
              "      <th>length</th>\n",
              "      <th>width</th>\n",
              "      <th>height</th>\n",
              "      <th>num-of-cylinders</th>\n",
              "      <th>horsepower</th>\n",
              "      <th>city-mpg</th>\n",
              "      <th>highway-mpg</th>\n",
              "      <th>price</th>\n",
              "    </tr>\n",
              "  </thead>\n",
              "  <tbody>\n",
              "    <tr>\n",
              "      <th>0</th>\n",
              "      <td>3</td>\n",
              "      <td>NaN</td>\n",
              "      <td>alfa-romero</td>\n",
              "      <td>gas</td>\n",
              "      <td>std</td>\n",
              "      <td>convertible</td>\n",
              "      <td>168.8</td>\n",
              "      <td>64.1</td>\n",
              "      <td>48.8</td>\n",
              "      <td>four</td>\n",
              "      <td>111</td>\n",
              "      <td>21</td>\n",
              "      <td>27</td>\n",
              "      <td>13495</td>\n",
              "    </tr>\n",
              "    <tr>\n",
              "      <th>1</th>\n",
              "      <td>3</td>\n",
              "      <td>NaN</td>\n",
              "      <td>alfa-romero</td>\n",
              "      <td>gas</td>\n",
              "      <td>std</td>\n",
              "      <td>convertible</td>\n",
              "      <td>168.8</td>\n",
              "      <td>64.1</td>\n",
              "      <td>48.8</td>\n",
              "      <td>four</td>\n",
              "      <td>111</td>\n",
              "      <td>21</td>\n",
              "      <td>27</td>\n",
              "      <td>16500</td>\n",
              "    </tr>\n",
              "    <tr>\n",
              "      <th>2</th>\n",
              "      <td>1</td>\n",
              "      <td>NaN</td>\n",
              "      <td>alfa-romero</td>\n",
              "      <td>gas</td>\n",
              "      <td>std</td>\n",
              "      <td>hatchback</td>\n",
              "      <td>171.2</td>\n",
              "      <td>65.5</td>\n",
              "      <td>52.4</td>\n",
              "      <td>six</td>\n",
              "      <td>154</td>\n",
              "      <td>19</td>\n",
              "      <td>26</td>\n",
              "      <td>16500</td>\n",
              "    </tr>\n",
              "    <tr>\n",
              "      <th>3</th>\n",
              "      <td>2</td>\n",
              "      <td>164</td>\n",
              "      <td>audi</td>\n",
              "      <td>gas</td>\n",
              "      <td>std</td>\n",
              "      <td>sedan</td>\n",
              "      <td>176.6</td>\n",
              "      <td>66.2</td>\n",
              "      <td>54.3</td>\n",
              "      <td>four</td>\n",
              "      <td>102</td>\n",
              "      <td>24</td>\n",
              "      <td>30</td>\n",
              "      <td>13950</td>\n",
              "    </tr>\n",
              "    <tr>\n",
              "      <th>4</th>\n",
              "      <td>2</td>\n",
              "      <td>164</td>\n",
              "      <td>audi</td>\n",
              "      <td>gas</td>\n",
              "      <td>std</td>\n",
              "      <td>sedan</td>\n",
              "      <td>176.6</td>\n",
              "      <td>66.4</td>\n",
              "      <td>54.3</td>\n",
              "      <td>five</td>\n",
              "      <td>115</td>\n",
              "      <td>18</td>\n",
              "      <td>22</td>\n",
              "      <td>17450</td>\n",
              "    </tr>\n",
              "  </tbody>\n",
              "</table>\n",
              "</div>\n",
              "      <button class=\"colab-df-convert\" onclick=\"convertToInteractive('df-4d1b86a4-e1fb-432e-ad91-41751148720a')\"\n",
              "              title=\"Convert this dataframe to an interactive table.\"\n",
              "              style=\"display:none;\">\n",
              "        \n",
              "  <svg xmlns=\"http://www.w3.org/2000/svg\" height=\"24px\"viewBox=\"0 0 24 24\"\n",
              "       width=\"24px\">\n",
              "    <path d=\"M0 0h24v24H0V0z\" fill=\"none\"/>\n",
              "    <path d=\"M18.56 5.44l.94 2.06.94-2.06 2.06-.94-2.06-.94-.94-2.06-.94 2.06-2.06.94zm-11 1L8.5 8.5l.94-2.06 2.06-.94-2.06-.94L8.5 2.5l-.94 2.06-2.06.94zm10 10l.94 2.06.94-2.06 2.06-.94-2.06-.94-.94-2.06-.94 2.06-2.06.94z\"/><path d=\"M17.41 7.96l-1.37-1.37c-.4-.4-.92-.59-1.43-.59-.52 0-1.04.2-1.43.59L10.3 9.45l-7.72 7.72c-.78.78-.78 2.05 0 2.83L4 21.41c.39.39.9.59 1.41.59.51 0 1.02-.2 1.41-.59l7.78-7.78 2.81-2.81c.8-.78.8-2.07 0-2.86zM5.41 20L4 18.59l7.72-7.72 1.47 1.35L5.41 20z\"/>\n",
              "  </svg>\n",
              "      </button>\n",
              "      \n",
              "  <style>\n",
              "    .colab-df-container {\n",
              "      display:flex;\n",
              "      flex-wrap:wrap;\n",
              "      gap: 12px;\n",
              "    }\n",
              "\n",
              "    .colab-df-convert {\n",
              "      background-color: #E8F0FE;\n",
              "      border: none;\n",
              "      border-radius: 50%;\n",
              "      cursor: pointer;\n",
              "      display: none;\n",
              "      fill: #1967D2;\n",
              "      height: 32px;\n",
              "      padding: 0 0 0 0;\n",
              "      width: 32px;\n",
              "    }\n",
              "\n",
              "    .colab-df-convert:hover {\n",
              "      background-color: #E2EBFA;\n",
              "      box-shadow: 0px 1px 2px rgba(60, 64, 67, 0.3), 0px 1px 3px 1px rgba(60, 64, 67, 0.15);\n",
              "      fill: #174EA6;\n",
              "    }\n",
              "\n",
              "    [theme=dark] .colab-df-convert {\n",
              "      background-color: #3B4455;\n",
              "      fill: #D2E3FC;\n",
              "    }\n",
              "\n",
              "    [theme=dark] .colab-df-convert:hover {\n",
              "      background-color: #434B5C;\n",
              "      box-shadow: 0px 1px 3px 1px rgba(0, 0, 0, 0.15);\n",
              "      filter: drop-shadow(0px 1px 2px rgba(0, 0, 0, 0.3));\n",
              "      fill: #FFFFFF;\n",
              "    }\n",
              "  </style>\n",
              "\n",
              "      <script>\n",
              "        const buttonEl =\n",
              "          document.querySelector('#df-4d1b86a4-e1fb-432e-ad91-41751148720a button.colab-df-convert');\n",
              "        buttonEl.style.display =\n",
              "          google.colab.kernel.accessAllowed ? 'block' : 'none';\n",
              "\n",
              "        async function convertToInteractive(key) {\n",
              "          const element = document.querySelector('#df-4d1b86a4-e1fb-432e-ad91-41751148720a');\n",
              "          const dataTable =\n",
              "            await google.colab.kernel.invokeFunction('convertToInteractive',\n",
              "                                                     [key], {});\n",
              "          if (!dataTable) return;\n",
              "\n",
              "          const docLinkHtml = 'Like what you see? Visit the ' +\n",
              "            '<a target=\"_blank\" href=https://colab.research.google.com/notebooks/data_table.ipynb>data table notebook</a>'\n",
              "            + ' to learn more about interactive tables.';\n",
              "          element.innerHTML = '';\n",
              "          dataTable['output_type'] = 'display_data';\n",
              "          await google.colab.output.renderOutput(dataTable, element);\n",
              "          const docLink = document.createElement('div');\n",
              "          docLink.innerHTML = docLinkHtml;\n",
              "          element.appendChild(docLink);\n",
              "        }\n",
              "      </script>\n",
              "    </div>\n",
              "  </div>\n",
              "  "
            ]
          },
          "metadata": {},
          "execution_count": 18
        }
      ]
    },
    {
      "cell_type": "code",
      "source": [
        "# HANDLING NULL VALUES\n",
        "\n",
        "data.isnull().sum()"
      ],
      "metadata": {
        "colab": {
          "base_uri": "https://localhost:8080/"
        },
        "id": "S3RkjlZ7jr5M",
        "outputId": "18292edb-3ef7-4fbc-c3a9-eb3a5351acbe"
      },
      "execution_count": 19,
      "outputs": [
        {
          "output_type": "execute_result",
          "data": {
            "text/plain": [
              "symboling             0\n",
              "normalized-losses    41\n",
              "make                  0\n",
              "fuel-type             0\n",
              "aspiration            0\n",
              "body-style            0\n",
              "length                0\n",
              "width                 0\n",
              "height                0\n",
              "num-of-cylinders      0\n",
              "horsepower            2\n",
              "city-mpg              0\n",
              "highway-mpg           0\n",
              "price                 4\n",
              "dtype: int64"
            ]
          },
          "metadata": {},
          "execution_count": 19
        }
      ]
    },
    {
      "cell_type": "code",
      "source": [
        "df.info()"
      ],
      "metadata": {
        "colab": {
          "base_uri": "https://localhost:8080/"
        },
        "id": "KkLvqJGVjuxd",
        "outputId": "7b166250-3d16-48f7-f590-59639cecdd97"
      },
      "execution_count": 20,
      "outputs": [
        {
          "output_type": "stream",
          "name": "stdout",
          "text": [
            "<class 'pandas.core.frame.DataFrame'>\n",
            "RangeIndex: 205 entries, 0 to 204\n",
            "Data columns (total 26 columns):\n",
            " #   Column             Non-Null Count  Dtype  \n",
            "---  ------             --------------  -----  \n",
            " 0   symboling          205 non-null    int64  \n",
            " 1   normalized-losses  164 non-null    object \n",
            " 2   make               205 non-null    object \n",
            " 3   fuel-type          205 non-null    object \n",
            " 4   aspiration         205 non-null    object \n",
            " 5   num-of-doors       203 non-null    object \n",
            " 6   body-style         205 non-null    object \n",
            " 7   drive-wheels       205 non-null    object \n",
            " 8   engine-location    205 non-null    object \n",
            " 9   wheel-base         205 non-null    float64\n",
            " 10  length             205 non-null    float64\n",
            " 11  width              205 non-null    float64\n",
            " 12  height             205 non-null    float64\n",
            " 13  curb-weight        205 non-null    int64  \n",
            " 14  engine-type        205 non-null    object \n",
            " 15  num-of-cylinders   205 non-null    object \n",
            " 16  engine-size        205 non-null    int64  \n",
            " 17  fuel-system        205 non-null    object \n",
            " 18  bore               201 non-null    object \n",
            " 19  stroke             201 non-null    object \n",
            " 20  compression-ratio  205 non-null    float64\n",
            " 21  horsepower         203 non-null    object \n",
            " 22  peak-rpm           203 non-null    object \n",
            " 23  city-mpg           205 non-null    int64  \n",
            " 24  highway-mpg        205 non-null    int64  \n",
            " 25  price              201 non-null    object \n",
            "dtypes: float64(5), int64(5), object(16)\n",
            "memory usage: 41.8+ KB\n"
          ]
        }
      ]
    },
    {
      "cell_type": "code",
      "source": [
        "data['normalized-losses'] = pd.to_numeric(data['normalized-losses'])\n",
        "data['horsepower'] = pd.to_numeric(data['horsepower'])\n",
        "data['price'] = pd.to_numeric(data['price'])"
      ],
      "metadata": {
        "id": "bHopFG0Ujw-r"
      },
      "execution_count": 21,
      "outputs": []
    },
    {
      "cell_type": "code",
      "source": [
        "from sklearn.impute import SimpleImputer\n",
        "import numpy as np\n",
        "\n",
        "SI = SimpleImputer(strategy='mean', missing_values=np.nan)\n",
        "data['normalized-losses'] = SI.fit_transform(data[['normalized-losses']])\n",
        "data['horsepower'] = SI.fit_transform(data[['horsepower']])\n",
        "data['price'] = SI.fit_transform(data[['price']])"
      ],
      "metadata": {
        "id": "mDBJiFaLjzQK"
      },
      "execution_count": 22,
      "outputs": []
    },
    {
      "cell_type": "code",
      "source": [
        "data.isnull().sum()"
      ],
      "metadata": {
        "colab": {
          "base_uri": "https://localhost:8080/"
        },
        "id": "gDuOAdJXj0_8",
        "outputId": "b7d7e1fb-de0e-4dcc-8106-7a9db5886905"
      },
      "execution_count": 23,
      "outputs": [
        {
          "output_type": "execute_result",
          "data": {
            "text/plain": [
              "symboling            0\n",
              "normalized-losses    0\n",
              "make                 0\n",
              "fuel-type            0\n",
              "aspiration           0\n",
              "body-style           0\n",
              "length               0\n",
              "width                0\n",
              "height               0\n",
              "num-of-cylinders     0\n",
              "horsepower           0\n",
              "city-mpg             0\n",
              "highway-mpg          0\n",
              "price                0\n",
              "dtype: int64"
            ]
          },
          "metadata": {},
          "execution_count": 23
        }
      ]
    },
    {
      "cell_type": "code",
      "source": [
        "data.info()"
      ],
      "metadata": {
        "colab": {
          "base_uri": "https://localhost:8080/"
        },
        "id": "9XpG4B0Kj2cq",
        "outputId": "2f7dbc01-d64a-40db-de43-4cffb521f4e1"
      },
      "execution_count": 24,
      "outputs": [
        {
          "output_type": "stream",
          "name": "stdout",
          "text": [
            "<class 'pandas.core.frame.DataFrame'>\n",
            "RangeIndex: 205 entries, 0 to 204\n",
            "Data columns (total 14 columns):\n",
            " #   Column             Non-Null Count  Dtype  \n",
            "---  ------             --------------  -----  \n",
            " 0   symboling          205 non-null    int64  \n",
            " 1   normalized-losses  205 non-null    float64\n",
            " 2   make               205 non-null    object \n",
            " 3   fuel-type          205 non-null    object \n",
            " 4   aspiration         205 non-null    object \n",
            " 5   body-style         205 non-null    object \n",
            " 6   length             205 non-null    float64\n",
            " 7   width              205 non-null    float64\n",
            " 8   height             205 non-null    float64\n",
            " 9   num-of-cylinders   205 non-null    object \n",
            " 10  horsepower         205 non-null    float64\n",
            " 11  city-mpg           205 non-null    int64  \n",
            " 12  highway-mpg        205 non-null    int64  \n",
            " 13  price              205 non-null    float64\n",
            "dtypes: float64(6), int64(3), object(5)\n",
            "memory usage: 22.5+ KB\n"
          ]
        }
      ]
    },
    {
      "cell_type": "code",
      "source": [
        "data['make'].value_counts()"
      ],
      "metadata": {
        "colab": {
          "base_uri": "https://localhost:8080/"
        },
        "id": "Sd2hA8rIj4sR",
        "outputId": "1012ad8e-df26-49df-988d-d1dd4b5ada9d"
      },
      "execution_count": 25,
      "outputs": [
        {
          "output_type": "execute_result",
          "data": {
            "text/plain": [
              "toyota           32\n",
              "nissan           18\n",
              "mazda            17\n",
              "mitsubishi       13\n",
              "honda            13\n",
              "volkswagen       12\n",
              "subaru           12\n",
              "peugot           11\n",
              "volvo            11\n",
              "dodge             9\n",
              "mercedes-benz     8\n",
              "bmw               8\n",
              "audi              7\n",
              "plymouth          7\n",
              "saab              6\n",
              "porsche           5\n",
              "isuzu             4\n",
              "jaguar            3\n",
              "chevrolet         3\n",
              "alfa-romero       3\n",
              "renault           2\n",
              "mercury           1\n",
              "Name: make, dtype: int64"
            ]
          },
          "metadata": {},
          "execution_count": 25
        }
      ]
    },
    {
      "cell_type": "code",
      "source": [
        "data['fuel-type'].value_counts()"
      ],
      "metadata": {
        "colab": {
          "base_uri": "https://localhost:8080/"
        },
        "id": "zm1toDLsj7JY",
        "outputId": "3a2870cd-adf3-47a8-8476-e7ba17932be5"
      },
      "execution_count": 26,
      "outputs": [
        {
          "output_type": "execute_result",
          "data": {
            "text/plain": [
              "gas       185\n",
              "diesel     20\n",
              "Name: fuel-type, dtype: int64"
            ]
          },
          "metadata": {},
          "execution_count": 26
        }
      ]
    },
    {
      "cell_type": "code",
      "source": [
        "data['aspiration'].value_counts()"
      ],
      "metadata": {
        "colab": {
          "base_uri": "https://localhost:8080/"
        },
        "id": "NKRclIi6j829",
        "outputId": "e3b8018e-e677-4e31-eae8-88cdd4fa0a28"
      },
      "execution_count": 27,
      "outputs": [
        {
          "output_type": "execute_result",
          "data": {
            "text/plain": [
              "std      168\n",
              "turbo     37\n",
              "Name: aspiration, dtype: int64"
            ]
          },
          "metadata": {},
          "execution_count": 27
        }
      ]
    },
    {
      "cell_type": "code",
      "source": [
        "data['body-style'].value_counts()"
      ],
      "metadata": {
        "colab": {
          "base_uri": "https://localhost:8080/"
        },
        "id": "wge7Zrwqj-Zd",
        "outputId": "20f5e037-308f-475f-ca2c-7a8b5de63fbb"
      },
      "execution_count": 28,
      "outputs": [
        {
          "output_type": "execute_result",
          "data": {
            "text/plain": [
              "sedan          96\n",
              "hatchback      70\n",
              "wagon          25\n",
              "hardtop         8\n",
              "convertible     6\n",
              "Name: body-style, dtype: int64"
            ]
          },
          "metadata": {},
          "execution_count": 28
        }
      ]
    },
    {
      "cell_type": "code",
      "source": [
        "data['num-of-cylinders'].value_counts()"
      ],
      "metadata": {
        "colab": {
          "base_uri": "https://localhost:8080/"
        },
        "id": "zC-p-kdlkAKW",
        "outputId": "16ad61fd-5af1-4c63-910b-e261abe52db4"
      },
      "execution_count": 29,
      "outputs": [
        {
          "output_type": "execute_result",
          "data": {
            "text/plain": [
              "four      159\n",
              "six        24\n",
              "five       11\n",
              "eight       5\n",
              "two         4\n",
              "three       1\n",
              "twelve      1\n",
              "Name: num-of-cylinders, dtype: int64"
            ]
          },
          "metadata": {},
          "execution_count": 29
        }
      ]
    },
    {
      "cell_type": "code",
      "source": [
        "from sklearn.preprocessing import OrdinalEncoder\n",
        "OE=OrdinalEncoder()"
      ],
      "metadata": {
        "id": "95FPuANakBnV"
      },
      "execution_count": 30,
      "outputs": []
    },
    {
      "cell_type": "code",
      "source": [
        "data['make']=OE.fit_transform(data[['make']])\n",
        "data['fuel-type']=OE.fit_transform(data[['fuel-type']])\n",
        "data['aspiration']=OE.fit_transform(data[['aspiration']])\n",
        "data['body-style']=OE.fit_transform(data[['body-style']])\n",
        "data['num-of-cylinders']=OE.fit_transform(data[['num-of-cylinders']])"
      ],
      "metadata": {
        "id": "QZX3FVi5kDc8"
      },
      "execution_count": 31,
      "outputs": []
    },
    {
      "cell_type": "code",
      "source": [
        "data"
      ],
      "metadata": {
        "colab": {
          "base_uri": "https://localhost:8080/",
          "height": 423
        },
        "id": "YP7Fap8fkFSb",
        "outputId": "ccfdca3e-dd2f-4d17-bbc7-028543f37d18"
      },
      "execution_count": 32,
      "outputs": [
        {
          "output_type": "execute_result",
          "data": {
            "text/plain": [
              "     symboling  normalized-losses  make  fuel-type  aspiration  body-style  \\\n",
              "0            3              122.0   0.0        1.0         0.0         0.0   \n",
              "1            3              122.0   0.0        1.0         0.0         0.0   \n",
              "2            1              122.0   0.0        1.0         0.0         2.0   \n",
              "3            2              164.0   1.0        1.0         0.0         3.0   \n",
              "4            2              164.0   1.0        1.0         0.0         3.0   \n",
              "..         ...                ...   ...        ...         ...         ...   \n",
              "200         -1               95.0  21.0        1.0         0.0         3.0   \n",
              "201         -1               95.0  21.0        1.0         1.0         3.0   \n",
              "202         -1               95.0  21.0        1.0         0.0         3.0   \n",
              "203         -1               95.0  21.0        0.0         1.0         3.0   \n",
              "204         -1               95.0  21.0        1.0         1.0         3.0   \n",
              "\n",
              "     length  width  height  num-of-cylinders  horsepower  city-mpg  \\\n",
              "0     168.8   64.1    48.8               2.0       111.0        21   \n",
              "1     168.8   64.1    48.8               2.0       111.0        21   \n",
              "2     171.2   65.5    52.4               3.0       154.0        19   \n",
              "3     176.6   66.2    54.3               2.0       102.0        24   \n",
              "4     176.6   66.4    54.3               1.0       115.0        18   \n",
              "..      ...    ...     ...               ...         ...       ...   \n",
              "200   188.8   68.9    55.5               2.0       114.0        23   \n",
              "201   188.8   68.8    55.5               2.0       160.0        19   \n",
              "202   188.8   68.9    55.5               3.0       134.0        18   \n",
              "203   188.8   68.9    55.5               3.0       106.0        26   \n",
              "204   188.8   68.9    55.5               2.0       114.0        19   \n",
              "\n",
              "     highway-mpg    price  \n",
              "0             27  13495.0  \n",
              "1             27  16500.0  \n",
              "2             26  16500.0  \n",
              "3             30  13950.0  \n",
              "4             22  17450.0  \n",
              "..           ...      ...  \n",
              "200           28  16845.0  \n",
              "201           25  19045.0  \n",
              "202           23  21485.0  \n",
              "203           27  22470.0  \n",
              "204           25  22625.0  \n",
              "\n",
              "[205 rows x 14 columns]"
            ],
            "text/html": [
              "\n",
              "  <div id=\"df-dc99cd6e-cbf0-44d7-8177-20aa37ad920a\">\n",
              "    <div class=\"colab-df-container\">\n",
              "      <div>\n",
              "<style scoped>\n",
              "    .dataframe tbody tr th:only-of-type {\n",
              "        vertical-align: middle;\n",
              "    }\n",
              "\n",
              "    .dataframe tbody tr th {\n",
              "        vertical-align: top;\n",
              "    }\n",
              "\n",
              "    .dataframe thead th {\n",
              "        text-align: right;\n",
              "    }\n",
              "</style>\n",
              "<table border=\"1\" class=\"dataframe\">\n",
              "  <thead>\n",
              "    <tr style=\"text-align: right;\">\n",
              "      <th></th>\n",
              "      <th>symboling</th>\n",
              "      <th>normalized-losses</th>\n",
              "      <th>make</th>\n",
              "      <th>fuel-type</th>\n",
              "      <th>aspiration</th>\n",
              "      <th>body-style</th>\n",
              "      <th>length</th>\n",
              "      <th>width</th>\n",
              "      <th>height</th>\n",
              "      <th>num-of-cylinders</th>\n",
              "      <th>horsepower</th>\n",
              "      <th>city-mpg</th>\n",
              "      <th>highway-mpg</th>\n",
              "      <th>price</th>\n",
              "    </tr>\n",
              "  </thead>\n",
              "  <tbody>\n",
              "    <tr>\n",
              "      <th>0</th>\n",
              "      <td>3</td>\n",
              "      <td>122.0</td>\n",
              "      <td>0.0</td>\n",
              "      <td>1.0</td>\n",
              "      <td>0.0</td>\n",
              "      <td>0.0</td>\n",
              "      <td>168.8</td>\n",
              "      <td>64.1</td>\n",
              "      <td>48.8</td>\n",
              "      <td>2.0</td>\n",
              "      <td>111.0</td>\n",
              "      <td>21</td>\n",
              "      <td>27</td>\n",
              "      <td>13495.0</td>\n",
              "    </tr>\n",
              "    <tr>\n",
              "      <th>1</th>\n",
              "      <td>3</td>\n",
              "      <td>122.0</td>\n",
              "      <td>0.0</td>\n",
              "      <td>1.0</td>\n",
              "      <td>0.0</td>\n",
              "      <td>0.0</td>\n",
              "      <td>168.8</td>\n",
              "      <td>64.1</td>\n",
              "      <td>48.8</td>\n",
              "      <td>2.0</td>\n",
              "      <td>111.0</td>\n",
              "      <td>21</td>\n",
              "      <td>27</td>\n",
              "      <td>16500.0</td>\n",
              "    </tr>\n",
              "    <tr>\n",
              "      <th>2</th>\n",
              "      <td>1</td>\n",
              "      <td>122.0</td>\n",
              "      <td>0.0</td>\n",
              "      <td>1.0</td>\n",
              "      <td>0.0</td>\n",
              "      <td>2.0</td>\n",
              "      <td>171.2</td>\n",
              "      <td>65.5</td>\n",
              "      <td>52.4</td>\n",
              "      <td>3.0</td>\n",
              "      <td>154.0</td>\n",
              "      <td>19</td>\n",
              "      <td>26</td>\n",
              "      <td>16500.0</td>\n",
              "    </tr>\n",
              "    <tr>\n",
              "      <th>3</th>\n",
              "      <td>2</td>\n",
              "      <td>164.0</td>\n",
              "      <td>1.0</td>\n",
              "      <td>1.0</td>\n",
              "      <td>0.0</td>\n",
              "      <td>3.0</td>\n",
              "      <td>176.6</td>\n",
              "      <td>66.2</td>\n",
              "      <td>54.3</td>\n",
              "      <td>2.0</td>\n",
              "      <td>102.0</td>\n",
              "      <td>24</td>\n",
              "      <td>30</td>\n",
              "      <td>13950.0</td>\n",
              "    </tr>\n",
              "    <tr>\n",
              "      <th>4</th>\n",
              "      <td>2</td>\n",
              "      <td>164.0</td>\n",
              "      <td>1.0</td>\n",
              "      <td>1.0</td>\n",
              "      <td>0.0</td>\n",
              "      <td>3.0</td>\n",
              "      <td>176.6</td>\n",
              "      <td>66.4</td>\n",
              "      <td>54.3</td>\n",
              "      <td>1.0</td>\n",
              "      <td>115.0</td>\n",
              "      <td>18</td>\n",
              "      <td>22</td>\n",
              "      <td>17450.0</td>\n",
              "    </tr>\n",
              "    <tr>\n",
              "      <th>...</th>\n",
              "      <td>...</td>\n",
              "      <td>...</td>\n",
              "      <td>...</td>\n",
              "      <td>...</td>\n",
              "      <td>...</td>\n",
              "      <td>...</td>\n",
              "      <td>...</td>\n",
              "      <td>...</td>\n",
              "      <td>...</td>\n",
              "      <td>...</td>\n",
              "      <td>...</td>\n",
              "      <td>...</td>\n",
              "      <td>...</td>\n",
              "      <td>...</td>\n",
              "    </tr>\n",
              "    <tr>\n",
              "      <th>200</th>\n",
              "      <td>-1</td>\n",
              "      <td>95.0</td>\n",
              "      <td>21.0</td>\n",
              "      <td>1.0</td>\n",
              "      <td>0.0</td>\n",
              "      <td>3.0</td>\n",
              "      <td>188.8</td>\n",
              "      <td>68.9</td>\n",
              "      <td>55.5</td>\n",
              "      <td>2.0</td>\n",
              "      <td>114.0</td>\n",
              "      <td>23</td>\n",
              "      <td>28</td>\n",
              "      <td>16845.0</td>\n",
              "    </tr>\n",
              "    <tr>\n",
              "      <th>201</th>\n",
              "      <td>-1</td>\n",
              "      <td>95.0</td>\n",
              "      <td>21.0</td>\n",
              "      <td>1.0</td>\n",
              "      <td>1.0</td>\n",
              "      <td>3.0</td>\n",
              "      <td>188.8</td>\n",
              "      <td>68.8</td>\n",
              "      <td>55.5</td>\n",
              "      <td>2.0</td>\n",
              "      <td>160.0</td>\n",
              "      <td>19</td>\n",
              "      <td>25</td>\n",
              "      <td>19045.0</td>\n",
              "    </tr>\n",
              "    <tr>\n",
              "      <th>202</th>\n",
              "      <td>-1</td>\n",
              "      <td>95.0</td>\n",
              "      <td>21.0</td>\n",
              "      <td>1.0</td>\n",
              "      <td>0.0</td>\n",
              "      <td>3.0</td>\n",
              "      <td>188.8</td>\n",
              "      <td>68.9</td>\n",
              "      <td>55.5</td>\n",
              "      <td>3.0</td>\n",
              "      <td>134.0</td>\n",
              "      <td>18</td>\n",
              "      <td>23</td>\n",
              "      <td>21485.0</td>\n",
              "    </tr>\n",
              "    <tr>\n",
              "      <th>203</th>\n",
              "      <td>-1</td>\n",
              "      <td>95.0</td>\n",
              "      <td>21.0</td>\n",
              "      <td>0.0</td>\n",
              "      <td>1.0</td>\n",
              "      <td>3.0</td>\n",
              "      <td>188.8</td>\n",
              "      <td>68.9</td>\n",
              "      <td>55.5</td>\n",
              "      <td>3.0</td>\n",
              "      <td>106.0</td>\n",
              "      <td>26</td>\n",
              "      <td>27</td>\n",
              "      <td>22470.0</td>\n",
              "    </tr>\n",
              "    <tr>\n",
              "      <th>204</th>\n",
              "      <td>-1</td>\n",
              "      <td>95.0</td>\n",
              "      <td>21.0</td>\n",
              "      <td>1.0</td>\n",
              "      <td>1.0</td>\n",
              "      <td>3.0</td>\n",
              "      <td>188.8</td>\n",
              "      <td>68.9</td>\n",
              "      <td>55.5</td>\n",
              "      <td>2.0</td>\n",
              "      <td>114.0</td>\n",
              "      <td>19</td>\n",
              "      <td>25</td>\n",
              "      <td>22625.0</td>\n",
              "    </tr>\n",
              "  </tbody>\n",
              "</table>\n",
              "<p>205 rows × 14 columns</p>\n",
              "</div>\n",
              "      <button class=\"colab-df-convert\" onclick=\"convertToInteractive('df-dc99cd6e-cbf0-44d7-8177-20aa37ad920a')\"\n",
              "              title=\"Convert this dataframe to an interactive table.\"\n",
              "              style=\"display:none;\">\n",
              "        \n",
              "  <svg xmlns=\"http://www.w3.org/2000/svg\" height=\"24px\"viewBox=\"0 0 24 24\"\n",
              "       width=\"24px\">\n",
              "    <path d=\"M0 0h24v24H0V0z\" fill=\"none\"/>\n",
              "    <path d=\"M18.56 5.44l.94 2.06.94-2.06 2.06-.94-2.06-.94-.94-2.06-.94 2.06-2.06.94zm-11 1L8.5 8.5l.94-2.06 2.06-.94-2.06-.94L8.5 2.5l-.94 2.06-2.06.94zm10 10l.94 2.06.94-2.06 2.06-.94-2.06-.94-.94-2.06-.94 2.06-2.06.94z\"/><path d=\"M17.41 7.96l-1.37-1.37c-.4-.4-.92-.59-1.43-.59-.52 0-1.04.2-1.43.59L10.3 9.45l-7.72 7.72c-.78.78-.78 2.05 0 2.83L4 21.41c.39.39.9.59 1.41.59.51 0 1.02-.2 1.41-.59l7.78-7.78 2.81-2.81c.8-.78.8-2.07 0-2.86zM5.41 20L4 18.59l7.72-7.72 1.47 1.35L5.41 20z\"/>\n",
              "  </svg>\n",
              "      </button>\n",
              "      \n",
              "  <style>\n",
              "    .colab-df-container {\n",
              "      display:flex;\n",
              "      flex-wrap:wrap;\n",
              "      gap: 12px;\n",
              "    }\n",
              "\n",
              "    .colab-df-convert {\n",
              "      background-color: #E8F0FE;\n",
              "      border: none;\n",
              "      border-radius: 50%;\n",
              "      cursor: pointer;\n",
              "      display: none;\n",
              "      fill: #1967D2;\n",
              "      height: 32px;\n",
              "      padding: 0 0 0 0;\n",
              "      width: 32px;\n",
              "    }\n",
              "\n",
              "    .colab-df-convert:hover {\n",
              "      background-color: #E2EBFA;\n",
              "      box-shadow: 0px 1px 2px rgba(60, 64, 67, 0.3), 0px 1px 3px 1px rgba(60, 64, 67, 0.15);\n",
              "      fill: #174EA6;\n",
              "    }\n",
              "\n",
              "    [theme=dark] .colab-df-convert {\n",
              "      background-color: #3B4455;\n",
              "      fill: #D2E3FC;\n",
              "    }\n",
              "\n",
              "    [theme=dark] .colab-df-convert:hover {\n",
              "      background-color: #434B5C;\n",
              "      box-shadow: 0px 1px 3px 1px rgba(0, 0, 0, 0.15);\n",
              "      filter: drop-shadow(0px 1px 2px rgba(0, 0, 0, 0.3));\n",
              "      fill: #FFFFFF;\n",
              "    }\n",
              "  </style>\n",
              "\n",
              "      <script>\n",
              "        const buttonEl =\n",
              "          document.querySelector('#df-dc99cd6e-cbf0-44d7-8177-20aa37ad920a button.colab-df-convert');\n",
              "        buttonEl.style.display =\n",
              "          google.colab.kernel.accessAllowed ? 'block' : 'none';\n",
              "\n",
              "        async function convertToInteractive(key) {\n",
              "          const element = document.querySelector('#df-dc99cd6e-cbf0-44d7-8177-20aa37ad920a');\n",
              "          const dataTable =\n",
              "            await google.colab.kernel.invokeFunction('convertToInteractive',\n",
              "                                                     [key], {});\n",
              "          if (!dataTable) return;\n",
              "\n",
              "          const docLinkHtml = 'Like what you see? Visit the ' +\n",
              "            '<a target=\"_blank\" href=https://colab.research.google.com/notebooks/data_table.ipynb>data table notebook</a>'\n",
              "            + ' to learn more about interactive tables.';\n",
              "          element.innerHTML = '';\n",
              "          dataTable['output_type'] = 'display_data';\n",
              "          await google.colab.output.renderOutput(dataTable, element);\n",
              "          const docLink = document.createElement('div');\n",
              "          docLink.innerHTML = docLinkHtml;\n",
              "          element.appendChild(docLink);\n",
              "        }\n",
              "      </script>\n",
              "    </div>\n",
              "  </div>\n",
              "  "
            ]
          },
          "metadata": {},
          "execution_count": 32
        }
      ]
    },
    {
      "cell_type": "code",
      "source": [
        "import seaborn as sns\n",
        "import matplotlib.pyplot as plt\n",
        "\n",
        "# Set the figure size\n",
        "plt.figure(figsize=(12, 12))\n",
        "\n",
        "sns.boxplot(data.iloc[:, :-1])\n",
        "plt.xticks(rotation='vertical')\n",
        "plt.show()"
      ],
      "metadata": {
        "colab": {
          "base_uri": "https://localhost:8080/",
          "height": 1000
        },
        "id": "NHsdcK4TkG-L",
        "outputId": "02bb7075-20be-4753-cd40-7dc6c0d57be6"
      },
      "execution_count": 33,
      "outputs": [
        {
          "output_type": "display_data",
          "data": {
            "text/plain": [
              "<Figure size 1200x1200 with 1 Axes>"
            ],
            "image/png": "[encoded data removed]"
          },
          "metadata": {}
        }
      ]
    },
    {
      "cell_type": "code",
      "source": [
        "X = data.iloc[:, :-1]\n",
        "y = data.iloc[:, -1]"
      ],
      "metadata": {
        "id": "Tj7YvXAtkIhA"
      },
      "execution_count": 34,
      "outputs": []
    },
    {
      "cell_type": "code",
      "source": [
        "X.shape"
      ],
      "metadata": {
        "colab": {
          "base_uri": "https://localhost:8080/"
        },
        "id": "I2HgguffkK9y",
        "outputId": "f1684418-6f51-44e3-8164-aed68bfc8d21"
      },
      "execution_count": 35,
      "outputs": [
        {
          "output_type": "execute_result",
          "data": {
            "text/plain": [
              "(205, 13)"
            ]
          },
          "metadata": {},
          "execution_count": 35
        }
      ]
    },
    {
      "cell_type": "code",
      "source": [
        "y.shape"
      ],
      "metadata": {
        "colab": {
          "base_uri": "https://localhost:8080/"
        },
        "id": "Kdq4FbGJkMoG",
        "outputId": "5530876b-8945-4cb6-88b8-21da082a97e8"
      },
      "execution_count": 36,
      "outputs": [
        {
          "output_type": "execute_result",
          "data": {
            "text/plain": [
              "(205,)"
            ]
          },
          "metadata": {},
          "execution_count": 36
        }
      ]
    },
    {
      "cell_type": "code",
      "source": [
        "from sklearn.model_selection import train_test_split\n",
        "X_train, X_test, y_train, y_test = train_test_split(X, y, test_size = 0.2, random_state = 5)"
      ],
      "metadata": {
        "id": "NeWMWZTpkOHs"
      },
      "execution_count": 37,
      "outputs": []
    },
    {
      "cell_type": "code",
      "source": [
        "# For train data\n",
        "from sklearn.preprocessing import StandardScaler\n",
        "ss=StandardScaler()\n",
        "tX_train=ss.fit_transform(X_train)"
      ],
      "metadata": {
        "id": "whLnocJmkSx3"
      },
      "execution_count": 38,
      "outputs": []
    },
    {
      "cell_type": "code",
      "source": [
        "# For test data\n",
        "tX_test=ss.transform(X_test)"
      ],
      "metadata": {
        "id": "dyNuue2pkUWo"
      },
      "execution_count": 39,
      "outputs": []
    },
    {
      "cell_type": "code",
      "source": [
        "print(X_train.shape)\n",
        "print(X_test.shape)\n",
        "print(y_train.shape)\n",
        "print(y_test.shape)"
      ],
      "metadata": {
        "colab": {
          "base_uri": "https://localhost:8080/"
        },
        "id": "aEMMErDJkVyY",
        "outputId": "ae409788-d007-458c-dcc9-19dbd92091f2"
      },
      "execution_count": 43,
      "outputs": [
        {
          "output_type": "stream",
          "name": "stdout",
          "text": [
            "(164, 13)\n",
            "(41, 13)\n",
            "(164,)\n",
            "(41,)\n"
          ]
        }
      ]
    },
    {
      "cell_type": "code",
      "source": [
        "\n",
        "from sklearn.linear_model import SGDRegressor\n",
        "from sklearn.tree import DecisionTreeRegressor\n",
        "from sklearn.linear_model import LinearRegression\n",
        "from sklearn.ensemble import RandomForestRegressor\n",
        "from sklearn.ensemble import GradientBoostingRegressor"
      ],
      "metadata": {
        "id": "Z7v_CLuDkXdC"
      },
      "execution_count": 44,
      "outputs": []
    },
    {
      "cell_type": "code",
      "source": [
        "lr = LinearRegression()\n",
        "lr.fit(tX_train, y_train)\n",
        "print(lr.score(tX_train, y_train))\n",
        "print(lr.score(tX_test, y_test))"
      ],
      "metadata": {
        "colab": {
          "base_uri": "https://localhost:8080/"
        },
        "id": "mjTBQM3wkZ9-",
        "outputId": "7b0f971c-a021-48ff-c9e6-b814e6154ae5"
      },
      "execution_count": 45,
      "outputs": [
        {
          "output_type": "stream",
          "name": "stdout",
          "text": [
            "0.7519855826758448\n",
            "0.8374316149063812\n"
          ]
        }
      ]
    },
    {
      "cell_type": "code",
      "source": [
        "dtr=DecisionTreeRegressor()\n",
        "dtr.fit(tX_train,y_train)\n",
        "print(dtr.score(tX_train,y_train))\n",
        "print(dtr.score(tX_test, y_test))"
      ],
      "metadata": {
        "colab": {
          "base_uri": "https://localhost:8080/"
        },
        "id": "qpXSDO_GklmF",
        "outputId": "51a820b6-1f2e-43d5-88a5-8b3ccd3aa9b3"
      },
      "execution_count": 46,
      "outputs": [
        {
          "output_type": "stream",
          "name": "stdout",
          "text": [
            "0.9944064491714449\n",
            "0.9500133918143152\n"
          ]
        }
      ]
    },
    {
      "cell_type": "code",
      "source": [
        "sgr=SGDRegressor()\n",
        "sgr.fit(tX_train,y_train)\n",
        "print(sgr.score(tX_train,y_train))\n",
        "print(sgr.score(tX_test, y_test))"
      ],
      "metadata": {
        "colab": {
          "base_uri": "https://localhost:8080/"
        },
        "id": "zdPc4gsTknqs",
        "outputId": "285dbeb3-9b16-4954-df7a-eca315953dfe"
      },
      "execution_count": 47,
      "outputs": [
        {
          "output_type": "stream",
          "name": "stdout",
          "text": [
            "0.743805418696182\n",
            "0.8367133843152816\n"
          ]
        }
      ]
    },
    {
      "cell_type": "code",
      "source": [
        "rfr = RandomForestRegressor()\n",
        "rfr.fit(tX_train, y_train)\n",
        "print(rfr.score(tX_train, y_train))\n",
        "print(rfr.score(tX_test, y_test))"
      ],
      "metadata": {
        "colab": {
          "base_uri": "https://localhost:8080/"
        },
        "id": "XJchacOEkpQ-",
        "outputId": "7ca61566-d5f9-44fd-f972-bccd0b9d1470"
      },
      "execution_count": 48,
      "outputs": [
        {
          "output_type": "stream",
          "name": "stdout",
          "text": [
            "0.9654980486968681\n",
            "0.9777718027751424\n"
          ]
        }
      ]
    },
    {
      "cell_type": "code",
      "source": [
        "gbr=GradientBoostingRegressor()\n",
        "gbr.fit(tX_train, y_train)\n",
        "print(gbr.score(tX_train, y_train))\n",
        "print(gbr.score(tX_test, y_test))"
      ],
      "metadata": {
        "colab": {
          "base_uri": "https://localhost:8080/"
        },
        "id": "rpTKFNTKkrBm",
        "outputId": "f761fc1f-24e9-4168-93d5-19e4634f305c"
      },
      "execution_count": 49,
      "outputs": [
        {
          "output_type": "stream",
          "name": "stdout",
          "text": [
            "0.9884385137487863\n",
            "0.9768812317826596\n"
          ]
        }
      ]
    },
    {
      "cell_type": "code",
      "source": [
        "# select DecisionTreeRegressor as the final model.\n",
        "final_model = dtr"
      ],
      "metadata": {
        "id": "Bw1KPRlKksxs"
      },
      "execution_count": 50,
      "outputs": []
    },
    {
      "cell_type": "code",
      "source": [
        "y_pred = final_model.predict(tX_test)"
      ],
      "metadata": {
        "id": "18X8oDovkuK3"
      },
      "execution_count": 51,
      "outputs": []
    },
    {
      "cell_type": "code",
      "source": [
        "from sklearn import metrics\n",
        "metrics.mean_squared_error(y_test,y_pred)"
      ],
      "metadata": {
        "colab": {
          "base_uri": "https://localhost:8080/"
        },
        "id": "qKxxxt8vkv35",
        "outputId": "1e4e5ae5-182e-4b43-f825-86c5ba7686b4"
      },
      "execution_count": 52,
      "outputs": [
        {
          "output_type": "execute_result",
          "data": {
            "text/plain": [
              "3414814.6368563683"
            ]
          },
          "metadata": {},
          "execution_count": 52
        }
      ]
    },
    {
      "cell_type": "code",
      "source": [
        "metrics.mean_absolute_error(y_test, y_pred)"
      ],
      "metadata": {
        "colab": {
          "base_uri": "https://localhost:8080/"
        },
        "id": "2D89RDUmkxmF",
        "outputId": "27eacf03-ccf5-4791-bc94-b6a5d1cf38ee"
      },
      "execution_count": 53,
      "outputs": [
        {
          "output_type": "execute_result",
          "data": {
            "text/plain": [
              "1373.308943089431"
            ]
          },
          "metadata": {},
          "execution_count": 53
        }
      ]
    },
    {
      "cell_type": "code",
      "source": [
        "print(metrics.r2_score(y_test,y_pred))"
      ],
      "metadata": {
        "colab": {
          "base_uri": "https://localhost:8080/"
        },
        "id": "M-ZCRTZQkzdl",
        "outputId": "02f95699-7d94-4fde-ae4d-6b459940aa41"
      },
      "execution_count": 54,
      "outputs": [
        {
          "output_type": "stream",
          "name": "stdout",
          "text": [
            "0.9500133918143152\n"
          ]
        }
      ]
    },
    {
      "cell_type": "code",
      "source": [
        "from sklearn.linear_model import Ridge\n",
        "from sklearn.model_selection import GridSearchCV\n",
        "\n",
        "# Regularized linear regression\n",
        "ridge = Ridge()\n",
        "parameters = {'alpha': [0.1, 1.0, 10.0]}\n",
        "grid_search = GridSearchCV(ridge, parameters, cv=5)\n",
        "grid_search.fit(tX_train, y_train)\n",
        "\n",
        "# Evaluate model performance\n",
        "best_ridge = grid_search.best_estimator_\n",
        "train_score = best_ridge.score(tX_train, y_train)\n",
        "test_score = best_ridge.score(tX_test, y_test)\n",
        "\n",
        "print(\"Train Score Ridge linear Regression:\" ,train_score)\n",
        "print(\"Test Score Ridge linear Regression:\",test_score)"
      ],
      "metadata": {
        "colab": {
          "base_uri": "https://localhost:8080/"
        },
        "id": "5bmbPXu2k04C",
        "outputId": "b3f95668-2a97-4370-95c3-f8c6b6485c31"
      },
      "execution_count": 55,
      "outputs": [
        {
          "output_type": "stream",
          "name": "stdout",
          "text": [
            "Train Score Ridge linear Regression: 0.7422415664441687\n",
            "Test Score Ridge linear Regression: 0.8316343794486629\n"
          ]
        }
      ]
    },
    {
      "cell_type": "code",
      "source": [
        "from sklearn.tree import DecisionTreeRegressor\n",
        "from sklearn.model_selection import GridSearchCV\n",
        "\n",
        "dtr = DecisionTreeRegressor()\n",
        "\n",
        "# Define the hyperparameters\n",
        "param_grid = {\n",
        "    'max_depth': [None, 5, 10],  # Maximum depth\n",
        "    'min_samples_split': [2, 5, 10],  # Minimum number of samples\n",
        "    'min_samples_leaf': [1, 2, 4],  # Minimum number of samples required at leaf node\n",
        "}\n",
        "\n",
        "# Perform GridSearchCV to find the best hyperparameters\n",
        "grid_search = GridSearchCV(dtr, param_grid, cv=5)\n",
        "grid_search.fit(tX_train, y_train)\n",
        "\n",
        "# best estimator\n",
        "best_dtr = grid_search.best_estimator_\n",
        "\n",
        "# model performance\n",
        "train_score = best_dtr.score(tX_train, y_train)\n",
        "test_score = best_dtr.score(tX_test, y_test)\n",
        "\n",
        "print(\"Train Score decision tree: \",train_score)\n",
        "print(\"Test Score decision tree: \",test_score)"
      ],
      "metadata": {
        "colab": {
          "base_uri": "https://localhost:8080/"
        },
        "id": "QdoiFs_Wk2-e",
        "outputId": "a9993b2f-808d-4b05-9ca4-73797d82501b"
      },
      "execution_count": 56,
      "outputs": [
        {
          "output_type": "stream",
          "name": "stdout",
          "text": [
            "Train Score decision tree:  0.9508089535461981\n",
            "Test Score decision tree:  0.9310447674011987\n"
          ]
        }
      ]
    },
    {
      "cell_type": "code",
      "source": [
        "from sklearn.linear_model import SGDRegressor\n",
        "from sklearn.model_selection import GridSearchCV\n",
        "\n",
        "sgr = SGDRegressor()\n",
        "\n",
        "# Define the hyperparameters\n",
        "param_grid = {\n",
        "    'alpha': [0.0001, 0.001, 0.01],  # Regularization parameter\n",
        "    'max_iter': [1000, 2000, 3000],\n",
        "    'learning_rate': ['constant', 'adaptive'],\n",
        "}\n",
        "\n",
        "# Perform GridSearchCV to find the best hyperparameters\n",
        "grid_search = GridSearchCV(sgr, param_grid, cv=5)\n",
        "grid_search.fit(tX_train, y_train)\n",
        "\n",
        "# Get the best estimator\n",
        "best_sgr = grid_search.best_estimator_\n",
        "\n",
        "# Evaluate model performance\n",
        "train_score = best_sgr.score(tX_train, y_train)\n",
        "test_score = best_sgr.score(tX_test, y_test)\n",
        "\n",
        "print(\"Train Score SGD regressor: \",train_score)\n",
        "print(\"Test Score SGD regressor: \",test_score)"
      ],
      "metadata": {
        "colab": {
          "base_uri": "https://localhost:8080/"
        },
        "id": "VT28C6_Tk6pL",
        "outputId": "4d148ca7-144e-4c78-ce61-3b19d1c8e267"
      },
      "execution_count": 57,
      "outputs": [
        {
          "output_type": "stream",
          "name": "stdout",
          "text": [
            "Train Score SGD regressor:  0.7180305746311064\n",
            "Test Score SGD regressor:  0.8336207230680376\n"
          ]
        }
      ]
    },
    {
      "cell_type": "code",
      "source": [
        "from sklearn.ensemble import RandomForestRegressor\n",
        "from sklearn.model_selection import GridSearchCV\n",
        "\n",
        "rfr = RandomForestRegressor()\n",
        "\n",
        "# Define the hyperparameters\n",
        "param_grid = {\n",
        "    'n_estimators': [100, 200, 300],  # Number of trees in the forest\n",
        "    'max_depth': [None, 5, 10],  # Maximum depth\n",
        "    'min_samples_split': [2, 5, 10],  # Minimum number of samples to split an internal node\n",
        "    'min_samples_leaf': [1, 2, 4],  # Minimum number of samples required to be at a leaf node\n",
        "}\n",
        "\n",
        "grid_search = GridSearchCV(rfr, param_grid, cv=5)\n",
        "grid_search.fit(tX_train, y_train)\n",
        "\n",
        "# Get the best estimator\n",
        "best_rfr = grid_search.best_estimator_\n",
        "\n",
        "# Evaluate model performance\n",
        "train_score = best_rfr.score(tX_train, y_train)\n",
        "test_score = best_rfr.score(tX_test, y_test)\n",
        "\n",
        "print(\"Train Score Random Forest regressor: \",train_score)\n",
        "print(\"Test Score Random Forest regressor: \",test_score)"
      ],
      "metadata": {
        "colab": {
          "base_uri": "https://localhost:8080/"
        },
        "id": "WIiE0Gfkk9QF",
        "outputId": "ca3541bd-5506-4a35-ba91-88eccab41788"
      },
      "execution_count": 58,
      "outputs": [
        {
          "output_type": "stream",
          "name": "stdout",
          "text": [
            "Train Score Random Forest regressor:  0.9527517249113526\n",
            "Test Score Random Forest regressor:  0.9791280445334043\n"
          ]
        }
      ]
    },
    {
      "cell_type": "code",
      "source": [
        "from sklearn.ensemble import GradientBoostingRegressor\n",
        "from sklearn.model_selection import GridSearchCV\n",
        "\n",
        "gbr=GradientBoostingRegressor()\n",
        "\n",
        "# Define the hyperparameters\n",
        "param_grid={\n",
        "    'n_estimators':[100,200,300],\n",
        "    'max_depth':[None,5,10],\n",
        "    'min_samples_split':[2,5,10],\n",
        "    'min_samples_leaf':[1,2,4]\n",
        "}\n",
        "\n",
        "grid_search=GridSearchCV(gbr,param_grid,cv=5)\n",
        "grid_search.fit(tX_train,y_train)\n",
        "\n",
        "# Get the best estimator\n",
        "best_gbr=grid_search.best_estimator_\n",
        "\n",
        "# Evaluate model performance\n",
        "train_score=best_gbr.score(tX_train,y_train)\n",
        "test_score=best_gbr.score(tX_test,y_test)\n",
        "\n",
        "print(\"Train Score Gradient Boost regressor: \",train_score)\n",
        "print(\"Test Score Gradient Boost regressor: \",test_score)"
      ],
      "metadata": {
        "colab": {
          "base_uri": "https://localhost:8080/"
        },
        "id": "vFw291L4k_rO",
        "outputId": "f0ab53ff-1058-48cd-aef2-f7dfd7bf753c"
      },
      "execution_count": 59,
      "outputs": [
        {
          "output_type": "stream",
          "name": "stdout",
          "text": [
            "Train Score Gradient Boost regressor:  0.9938068545756451\n",
            "Test Score Gradient Boost regressor:  0.9742258836436802\n"
          ]
        }
      ]
    },
    {
      "cell_type": "code",
      "source": [
        "from sklearn.ensemble import GradientBoostingRegressor\n",
        "from sklearn.pipeline import Pipeline\n",
        "from sklearn.model_selection import GridSearchCV\n",
        "from sklearn.preprocessing import StandardScaler\n",
        "\n",
        "# Create the pipeline\n",
        "pipeline = Pipeline([\n",
        "    ('scaler', StandardScaler()),  # Feature scaling\n",
        "    ('gbr', GradientBoostingRegressor())  # GradientBoostingRegressor\n",
        "])\n",
        "\n",
        "# Define the hyperparameters\n",
        "param_grid = {\n",
        "    'gbr__n_estimators': [100, 200, 300],\n",
        "    'gbr__learning_rate': [0.1, 0.01, 0.001],\n",
        "    'gbr__max_depth': [3, 5, 7],\n",
        "    'gbr__min_samples_split': [2, 5, 10],\n",
        "    'gbr__min_samples_leaf': [1, 2, 4],\n",
        "}\n",
        "\n",
        "# Perform GridSearchCV\n",
        "grid_search = GridSearchCV(pipeline, param_grid, cv=5)\n",
        "grid_search.fit(X_train, y_train)\n",
        "\n",
        "# Get the best estimator\n",
        "best_model = grid_search.best_estimator_\n",
        "\n",
        "# Evaluate model performance\n",
        "train_score = best_model.score(X_train, y_train)\n",
        "test_score = best_model.score(X_test, y_test)\n",
        "\n",
        "\n",
        "print(\"Train Score Gradient Boost regressor: \",train_score)\n",
        "print(\"Test Score Gradient Boost regressor: \",test_score)"
      ],
      "metadata": {
        "colab": {
          "base_uri": "https://localhost:8080/"
        },
        "id": "gvmedcOaljI4",
        "outputId": "e7e9c447-07ac-4fc0-fdd4-906cdfd74b0e"
      },
      "execution_count": 60,
      "outputs": [
        {
          "output_type": "stream",
          "name": "stdout",
          "text": [
            "Train Score Gradient Boost regressor:  0.9926080368437481\n",
            "Test Score Gradient Boost regressor:  0.9771720336136254\n"
          ]
        }
      ]
    },
    {
      "cell_type": "code",
      "source": [],
      "metadata": {
        "id": "LNJVGfdTmDCg"
      },
      "execution_count": null,
      "outputs": []
    }
  ]
}